{
 "cells": [
  {
   "cell_type": "markdown",
   "metadata": {},
   "source": [
    "# 4. Customized dataset\n",
    "\n",
    "PiNN provides two types modesl to construct new dataset adapters.\n",
    "\n",
    "Here we demonstrate how to do this with the Atoms and Traj class from ASE."
   ]
  },
  {
   "cell_type": "markdown",
   "metadata": {},
   "source": [
    "## data list dataset\n",
    "\n",
    "Suppose your dataset can be represented as a list and each data point can \n",
    "be acessed separately with some function.\n",
    "The list dataset descriptor helps you to transform your reader function to \n",
    "a dataset loader, with some a handy option to split your dataset.\n",
    "\n",
    "The list can be your list of filenames of structures, or identifiers to \n",
    "retrive you data points, e.g. ID from some online database.\n",
    "\n",
    "The advantage of this approach is that you only need to write the reader for \n",
    "one datapoint, \n",
    "and you can get the tensorflow dataset objects with reasonably optimized IO.\n",
    "Later, it's also easy to convert your dataset into the TFRecord format \n",
    "if you need to train on the cloud or further import the IO."
   ]
  },
  {
   "cell_type": "code",
   "execution_count": null,
   "metadata": {},
   "outputs": [],
   "source": [
    "from ase import Atoms\n",
    "datalist = [Atoms(elem) for elem in ['Cu', 'Ag', 'Au']]"
   ]
  },
  {
   "cell_type": "markdown",
   "metadata": {},
   "source": [
    "For the purpose of training ANN potentials, you typically need to provide the \n",
    "elements, coordinates and potential energy of a struture. \n",
    "In addition, you need to specify the maximum numner of atoms in one structure\n",
    "in advance.\n",
    "\n",
    "Your reader function should take one list element as input, \n",
    "and return a dictionary consisting of \n",
    "+ `'atoms'`: the elements of shape [n_atoms]\n",
    "+ `'coord'`: the coordinates of shape [n_atoms, 3]\n",
    "+ `'e_data'`: a single number\n",
    "\n",
    "After you have your reader function, decorate it with the `list_loader`\n",
    "decorater to transform it into a dataset loader."
   ]
  },
  {
   "cell_type": "code",
   "execution_count": null,
   "metadata": {},
   "outputs": [],
   "source": [
    "from pinn.datasets.base import list_loader\n",
    "\n",
    "@list_loader()\n",
    "def load_ase_list(atoms, n_atoms):\n",
    "    import numpy as np\n",
    "    coord = atoms.positions\n",
    "    elems = atoms.numbers\n",
    "    # Currently, we demand all the import structures to have the same shape.\n",
    "    # If atoms have different number of atoms, we have to pad them with zeros.\n",
    "    to_pad = n_atoms - len(atoms)\n",
    "    elems = np.pad(elems, [0,to_pad], 'constant')\n",
    "    coord = np.pad(coord, [[0,to_pad], [0,0]], 'constant')\n",
    "\n",
    "    data = {'atoms': atoms,\n",
    "            'coord': coord,\n",
    "            'e_data': 0.0}\n",
    "    return data"
   ]
  },
  {
   "cell_type": "markdown",
   "metadata": {},
   "source": [
    "That's it, you've got your customized dataset!"
   ]
  },
  {
   "cell_type": "code",
   "execution_count": null,
   "metadata": {},
   "outputs": [],
   "source": [
    "dataset = load_ase_list(datalists, n_atoms=1)['train']\n",
    "d = dataset.make_one_shot_iterator().get_next()\n",
    "with tf.Session() as sess:\n",
    "    print(sess.run(d))"
   ]
  },
  {
   "cell_type": "markdown",
   "metadata": {},
   "source": [
    "If you need to import more complex dataset, say, to include more \n",
    "features or labels, you shall consider writing a formatter function \n",
    "to define your dataset structure."
   ]
  },
  {
   "cell_type": "code",
   "execution_count": null,
   "metadata": {},
   "outputs": [],
   "source": [
    "def my_formator(n_atoms):\n",
    "    import tensorflow as tf\n",
    "    format_dict = {\n",
    "    'atoms': {'dtype':  tf.int32,   'shape': [n_atoms]},\n",
    "    'coord': {'dtype':  tf.float32, 'shape': [n_atoms, 3]},\n",
    "    'e_data': {'dtype': tf.float32, 'shape': []},\n",
    "    'mw_data': {'dtype': tf.float32, 'shape': []}}\n",
    "    return format_dict\n",
    "\n",
    "@list_loader(formator=my_formator)\n",
    "def load_ase_list(atoms, n_atoms):\n",
    "    import numpy as np\n",
    "    coord = atoms.positions\n",
    "    elems = atoms.numbers\n",
    "    # Currently, we demand all the import structures to have the same shape.\n",
    "    # If atoms have different number of atoms, we have to pad them with zeros.\n",
    "    to_pad = n_atoms - len(atoms)\n",
    "    elems = np.pad(elems, [0,to_pad], 'constant')\n",
    "    coord = np.pad(coord, [[0,to_pad], [0,0]], 'constant')\n",
    "\n",
    "    data = {'atoms': atoms,\n",
    "            'coord': coord,\n",
    "            'e_data': 0.0,\n",
    "            'mw': atoms.get_masses().sum()\n",
    "           }\n",
    "    return data"
   ]
  },
  {
   "cell_type": "code",
   "execution_count": null,
   "metadata": {},
   "outputs": [],
   "source": [
    "dataset = load_ase_list(datalists, n_atoms=1)['train']\n",
    "d = dataset.make_one_shot_iterator().get_next()\n",
    "with tf.Session() as sess:\n",
    "    print(sess.run(d))"
   ]
  }
 ],
 "metadata": {
  "kernelspec": {
   "display_name": "Python 3",
   "language": "python",
   "name": "python3"
  },
  "language_info": {
   "codemirror_mode": {
    "name": "ipython",
    "version": 3
   },
   "file_extension": ".py",
   "mimetype": "text/x-python",
   "name": "python",
   "nbconvert_exporter": "python",
   "pygments_lexer": "ipython3",
   "version": "3.6.7"
  }
 },
 "nbformat": 4,
 "nbformat_minor": 2
}
