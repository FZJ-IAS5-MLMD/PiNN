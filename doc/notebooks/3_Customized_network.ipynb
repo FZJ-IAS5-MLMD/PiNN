{
 "cells": [
  {
   "cell_type": "markdown",
   "metadata": {},
   "source": [
    "# 3. Customized network\n",
    "\n",
    "One of the ideas of PiNN is that different atomic neural networks shares similar building blocks.\n",
    "\n",
    "PiNN's abstraction of layers allows us to construct new network structures from those building blocks.\n",
    "It also makes it easier to design novel layers that works along with existing ones.\n",
    "\n",
    "In this notebook, we will build a customized network by combining PiNN's Pi blocks with Behler's\n",
    "element specific neural network. In this way, Pi blocks serves as a \"learnable\" feature generator \n",
    "for BPNN."
   ]
  },
  {
   "cell_type": "code",
   "execution_count": 1,
   "metadata": {},
   "outputs": [],
   "source": [
    "import os, warnings\n",
    "import tensorflow as tf\n",
    "import pinn.layers as l\n",
    "\n",
    "from glob import glob\n",
    "from pinn.models import potential_model\n",
    "from pinn.networks import pinn_network\n",
    "from pinn.utils import get_atomic_dress\n",
    "from pinn.io import load_qm9, sparse_batch\n",
    "\n",
    "os.environ['CUDA_VISIBLE_DEVICES'] = ''\n",
    "index_warning = 'Converting sparse IndexedSlices'\n",
    "warnings.filterwarnings('ignore', index_warning)"
   ]
  },
  {
   "cell_type": "markdown",
   "metadata": {},
   "source": [
    "## Defining a custom network function\n",
    "\n",
    "You can build a customized network structure simply by constructing a function to map the \n",
    "input `tensors` to prediction. Using the defined building blocks will make this\n",
    "a lot easier. The resulting function can be feed into the potential model, and \n",
    "you will be able to train, evaluate and use the model like any defined models. "
   ]
  },
  {
   "cell_type": "code",
   "execution_count": 8,
   "metadata": {},
   "outputs": [],
   "source": [
    "def hybrid_network(tensors, atom_types, **kwargs):\n",
    "    # Use PiNN network function, but get the atomic properties instead of energy\n",
    "    atom_prop_all = pinn_network(tensors, to_return=1, **kwargs)\n",
    "    en = 0.0\n",
    "    n_sample = tf.reduce_max(tensors['ind_1'])+1\n",
    "    # Use a larger network for energy prediction, and split the energy prediction\n",
    "    # layers for each element\n",
    "    for i in atom_types:\n",
    "        indices = tf.where(tf.equal(tensors['elems'],i))\n",
    "        atom_prop_i = tf.gather_nd(atom_prop_all, indices)\n",
    "        sample_id_i = tf.gather_nd(tensors['ind_1'], indices)\n",
    "        en += l.en_layer(sample_id_i, atom_prop_i, n_sample, [64,64,64],\n",
    "                         name='separate_en_{}'.format(i))\n",
    "    return en"
   ]
  },
  {
   "cell_type": "markdown",
   "metadata": {},
   "source": [
    "## Train and evaluation\n",
    "\n",
    "After that, the model can be readily trained."
   ]
  },
  {
   "cell_type": "code",
   "execution_count": 9,
   "metadata": {},
   "outputs": [],
   "source": [
    "filelist = glob('/home/yunqi/datasets/QM9/dsgdb9nsd/*.xyz')\n",
    "dataset = lambda: load_qm9(filelist, split={'train':8, 'test':2})\n",
    "dress, error = get_atomic_dress(dataset()['train'],[1,6,7,8,9],max_iter=2000)"
   ]
  },
  {
   "cell_type": "code",
   "execution_count": 10,
   "metadata": {},
   "outputs": [
    {
     "name": "stdout",
     "output_type": "stream",
     "text": [
      "INFO:tensorflow:Using config: {'_model_dir': '/tmp/hybrid_network', '_tf_random_seed': None, '_save_summary_steps': 100, '_save_checkpoints_steps': None, '_save_checkpoints_secs': 600, '_session_config': allow_soft_placement: true\n",
      "graph_options {\n",
      "  rewrite_options {\n",
      "    meta_optimizer_iterations: ONE\n",
      "  }\n",
      "}\n",
      ", '_keep_checkpoint_max': 5, '_keep_checkpoint_every_n_hours': 10000, '_log_step_count_steps': 500, '_train_distribute': None, '_device_fn': None, '_protocol': None, '_eval_distribute': None, '_experimental_distribute': None, '_service': None, '_cluster_spec': <tensorflow.python.training.server_lib.ClusterSpec object at 0x7f3b94b5e710>, '_task_type': 'worker', '_task_id': 0, '_global_id_in_cluster': 0, '_master': '', '_evaluation_master': '', '_is_chief': True, '_num_ps_replicas': 0, '_num_worker_replicas': 1}\n"
     ]
    }
   ],
   "source": [
    "params = {'model_dir': '/tmp/hybrid_network',\n",
    "          'network': hybrid_network,\n",
    "          'netparam': {\n",
    "              'pre_level': 0,\n",
    "              'atom_types':[1, 6, 7, 8, 9],\n",
    "              'atomic_dress': dress},\n",
    "          'train': {\n",
    "              'learning_rate': 1e-3,\n",
    "              'en_scale': 627.5\n",
    "          }}\n",
    "config = tf.estimator.RunConfig(log_step_count_steps=500)\n",
    "model = potential_model(params, config)"
   ]
  },
  {
   "cell_type": "code",
   "execution_count": 13,
   "metadata": {
    "scrolled": false
   },
   "outputs": [
    {
     "name": "stdout",
     "output_type": "stream",
     "text": [
      "INFO:tensorflow:Not using Distribute Coordinator.\n",
      "INFO:tensorflow:Running training and evaluation locally (non-distributed).\n",
      "INFO:tensorflow:Start train and evaluate loop. The evaluate will happen after every checkpoint. Checkpoint frequency is determined based on RunConfig arguments: save_checkpoints_steps None or save_checkpoints_secs 600.\n",
      "INFO:tensorflow:Calling model_fn.\n",
      "INFO:tensorflow:Done calling model_fn.\n",
      "INFO:tensorflow:Create CheckpointSaverHook.\n",
      "INFO:tensorflow:Graph was finalized.\n",
      "INFO:tensorflow:Running local_init_op.\n",
      "INFO:tensorflow:Done running local_init_op.\n",
      "INFO:tensorflow:Saving checkpoints for 0 into /tmp/hybrid_network/model.ckpt.\n",
      "INFO:tensorflow:loss = 708.7773, step = 1\n",
      "INFO:tensorflow:global_step/sec: 12.9832\n",
      "INFO:tensorflow:loss = 238.6859, step = 501 (38.514 sec)\n",
      "INFO:tensorflow:global_step/sec: 13.4553\n",
      "INFO:tensorflow:loss = 97.54565, step = 1001 (37.161 sec)\n",
      "INFO:tensorflow:global_step/sec: 13.9921\n",
      "INFO:tensorflow:loss = 170.16512, step = 1501 (35.733 sec)\n",
      "INFO:tensorflow:global_step/sec: 13.8027\n",
      "INFO:tensorflow:loss = 92.379295, step = 2001 (36.225 sec)\n",
      "INFO:tensorflow:global_step/sec: 13.9446\n",
      "INFO:tensorflow:loss = 98.57858, step = 2501 (35.856 sec)\n",
      "INFO:tensorflow:global_step/sec: 13.4205\n",
      "INFO:tensorflow:loss = 60.080566, step = 3001 (37.256 sec)\n",
      "INFO:tensorflow:global_step/sec: 12.797\n",
      "INFO:tensorflow:loss = 51.787216, step = 3501 (39.072 sec)\n",
      "INFO:tensorflow:global_step/sec: 13.2768\n",
      "INFO:tensorflow:loss = 44.001297, step = 4001 (37.659 sec)\n",
      "INFO:tensorflow:global_step/sec: 14.0286\n",
      "INFO:tensorflow:loss = 53.551098, step = 4501 (35.642 sec)\n",
      "INFO:tensorflow:global_step/sec: 13.0087\n",
      "INFO:tensorflow:loss = 42.10615, step = 5001 (38.435 sec)\n",
      "INFO:tensorflow:global_step/sec: 13.5179\n",
      "INFO:tensorflow:loss = 42.617382, step = 5501 (36.989 sec)\n",
      "INFO:tensorflow:global_step/sec: 13.381\n",
      "INFO:tensorflow:loss = 21.842606, step = 6001 (37.367 sec)\n",
      "INFO:tensorflow:global_step/sec: 14.5761\n",
      "INFO:tensorflow:loss = 23.169214, step = 6501 (34.302 sec)\n",
      "INFO:tensorflow:global_step/sec: 14.9274\n",
      "INFO:tensorflow:loss = 18.207338, step = 7001 (33.495 sec)\n",
      "INFO:tensorflow:global_step/sec: 14.955\n",
      "INFO:tensorflow:loss = 16.070135, step = 7501 (33.434 sec)\n",
      "INFO:tensorflow:global_step/sec: 13.836\n",
      "INFO:tensorflow:loss = 27.439764, step = 8001 (36.138 sec)\n",
      "INFO:tensorflow:Saving checkpoints for 8218 into /tmp/hybrid_network/model.ckpt.\n",
      "INFO:tensorflow:Calling model_fn.\n",
      "INFO:tensorflow:Done calling model_fn.\n",
      "INFO:tensorflow:Starting evaluation at 2019-06-13T15:27:43Z\n",
      "INFO:tensorflow:Graph was finalized.\n",
      "INFO:tensorflow:Restoring parameters from /tmp/hybrid_network/model.ckpt-8218\n",
      "INFO:tensorflow:Running local_init_op.\n",
      "INFO:tensorflow:Done running local_init_op.\n",
      "INFO:tensorflow:Evaluation [10/100]\n",
      "INFO:tensorflow:Evaluation [20/100]\n",
      "INFO:tensorflow:Evaluation [30/100]\n",
      "INFO:tensorflow:Evaluation [40/100]\n",
      "INFO:tensorflow:Evaluation [50/100]\n",
      "INFO:tensorflow:Evaluation [60/100]\n",
      "INFO:tensorflow:Evaluation [70/100]\n",
      "INFO:tensorflow:Evaluation [80/100]\n",
      "INFO:tensorflow:Evaluation [90/100]\n",
      "INFO:tensorflow:Evaluation [100/100]\n",
      "INFO:tensorflow:Finished evaluation at 2019-06-13-15:27:53\n",
      "INFO:tensorflow:Saving dict for global step 8218: METRICS/ENG_MAE = 3.8008926, METRICS/ENG_RMSE = 5.2427254, global_step = 8218, loss = 27.486162\n",
      "INFO:tensorflow:Saving 'checkpoint_path' summary for global step 8218: /tmp/hybrid_network/model.ckpt-8218\n",
      "INFO:tensorflow:global_step/sec: 10.1677\n",
      "INFO:tensorflow:loss = 18.414375, step = 8501 (49.176 sec)\n",
      "INFO:tensorflow:global_step/sec: 13.5721\n",
      "INFO:tensorflow:loss = 13.957619, step = 9001 (36.841 sec)\n",
      "INFO:tensorflow:global_step/sec: 13.542\n",
      "INFO:tensorflow:loss = 13.408408, step = 9501 (36.922 sec)\n",
      "INFO:tensorflow:Saving checkpoints for 10000 into /tmp/hybrid_network/model.ckpt.\n",
      "INFO:tensorflow:Skip the current checkpoint eval due to throttle secs (600 secs).\n",
      "INFO:tensorflow:Calling model_fn.\n",
      "INFO:tensorflow:Done calling model_fn.\n",
      "INFO:tensorflow:Starting evaluation at 2019-06-13T15:30:06Z\n",
      "INFO:tensorflow:Graph was finalized.\n",
      "INFO:tensorflow:Restoring parameters from /tmp/hybrid_network/model.ckpt-10000\n",
      "INFO:tensorflow:Running local_init_op.\n",
      "INFO:tensorflow:Done running local_init_op.\n",
      "INFO:tensorflow:Evaluation [10/100]\n",
      "INFO:tensorflow:Evaluation [20/100]\n",
      "INFO:tensorflow:Evaluation [30/100]\n",
      "INFO:tensorflow:Evaluation [40/100]\n",
      "INFO:tensorflow:Evaluation [50/100]\n",
      "INFO:tensorflow:Evaluation [60/100]\n",
      "INFO:tensorflow:Evaluation [70/100]\n",
      "INFO:tensorflow:Evaluation [80/100]\n",
      "INFO:tensorflow:Evaluation [90/100]\n",
      "INFO:tensorflow:Evaluation [100/100]\n",
      "INFO:tensorflow:Finished evaluation at 2019-06-13-15:30:16\n",
      "INFO:tensorflow:Saving dict for global step 10000: METRICS/ENG_MAE = 2.804322, METRICS/ENG_RMSE = 4.280273, global_step = 10000, loss = 18.32074\n",
      "INFO:tensorflow:Saving 'checkpoint_path' summary for global step 10000: /tmp/hybrid_network/model.ckpt-10000\n",
      "INFO:tensorflow:Loss for final step: 15.183331.\n"
     ]
    },
    {
     "data": {
      "text/plain": [
       "({'METRICS/ENG_MAE': 2.804322,\n",
       "  'METRICS/ENG_RMSE': 4.280273,\n",
       "  'loss': 18.32074,\n",
       "  'global_step': 10000},\n",
       " [])"
      ]
     },
     "execution_count": 13,
     "metadata": {},
     "output_type": "execute_result"
    }
   ],
   "source": [
    "# Preprocessing the datasets\n",
    "pre_fn = lambda tensors: pinn_network(tensors, preprocess=True, **params['netparam'])\n",
    "train = lambda: dataset()['train'].cache().repeat().shuffle(1000).apply(sparse_batch(100)).map(pre_fn, 8)\n",
    "test = lambda: dataset()['test'].cache().repeat().apply(sparse_batch(100)).map(pre_fn, 8)\n",
    "\n",
    "# Running specs\n",
    "train_spec = tf.estimator.TrainSpec(input_fn=train, max_steps=1e4)\n",
    "eval_spec = tf.estimator.EvalSpec(input_fn=test, steps=100)\n",
    "tf.estimator.train_and_evaluate(model, train_spec, eval_spec)"
   ]
  },
  {
   "cell_type": "markdown",
   "metadata": {},
   "source": [
    "## Conclusions\n",
    "\n",
    "Our hybrid network beats the original PiNN at the cost of slower training for this test, \n",
    "although both model have not reached their full potential. Feel free to look into the \n",
    "definitions of `networks` & their `layers` and improve them with your custom models!\n",
    "\n",
    "**Note** You can reuse a model given the same network function, however, there's \n",
    "currently no way to recover a model if you lost you original function definition."
   ]
  }
 ],
 "metadata": {
  "kernelspec": {
   "display_name": "Python 3",
   "language": "python",
   "name": "python3"
  },
  "language_info": {
   "codemirror_mode": {
    "name": "ipython",
    "version": 3
   },
   "file_extension": ".py",
   "mimetype": "text/x-python",
   "name": "python",
   "nbconvert_exporter": "python",
   "pygments_lexer": "ipython3",
   "version": "3.6.7"
  }
 },
 "nbformat": 4,
 "nbformat_minor": 2
}
