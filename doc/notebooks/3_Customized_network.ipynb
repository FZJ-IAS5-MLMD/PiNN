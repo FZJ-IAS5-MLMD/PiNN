{
 "cells": [
  {
   "cell_type": "markdown",
   "metadata": {},
   "source": [
    "# 3. Customized network\n",
    "\n",
    "One of the ideas of PiNN is that different atomic neural networks shares similar building blocks.\n",
    "\n",
    "PiNN's abstraction of layers allows us to construct new network structures from those building blocks.\n",
    "It also makes it easier to design novel layers that works along with existing ones.\n",
    "\n",
    "In this notebook, we will build a customized network by combining PiNN's Pi blocks with Behler's\n",
    "element specific neural network. In this way, Pi blocks serves as a \"learnable\" feature generator \n",
    "for BPNN."
   ]
  },
  {
   "cell_type": "code",
   "execution_count": 1,
   "metadata": {},
   "outputs": [],
   "source": [
    "import os, warnings\n",
    "import tensorflow as tf\n",
    "import pinn.layers as l\n",
    "\n",
    "from glob import glob\n",
    "from pinn.models import potential_model\n",
    "from pinn.networks import pinn_network\n",
    "from pinn.utils import get_atomic_dress\n",
    "from pinn.datasets.qm9 import load_QM9_dataset\n",
    "\n",
    "os.environ['CUDA_VISIBLE_DEVICES'] = ''\n",
    "index_warning = 'Converting sparse IndexedSlices'\n",
    "warnings.filterwarnings('ignore', index_warning)"
   ]
  },
  {
   "cell_type": "markdown",
   "metadata": {},
   "source": [
    "## Defining a custom network function\n",
    "\n",
    "You can build a customized network structure simply by constructing a function to map the \n",
    "input `tensors` to prediction. Using the defined building blocks will make this\n",
    "a lot easier. The resulting function can be feed into the potential model, and \n",
    "you will be able to train, evaluate and use the model like any defined models. "
   ]
  },
  {
   "cell_type": "code",
   "execution_count": 2,
   "metadata": {},
   "outputs": [],
   "source": [
    "def hybrid_network(tensors, atom_types, **kwargs):\n",
    "    # Use PiNN network function, but get the atomic properties instead of energy\n",
    "    atom_prop_all = pinn_network(tensors, to_return=1, **kwargs)\n",
    "    en = 0.0\n",
    "    n_sample = tf.shape(tensors['atoms'])[0]\n",
    "    # Use a larger network for energy prediction, and split the energy prediction\n",
    "    # layers for each element\n",
    "    for i in atom_types:\n",
    "        indices = tf.where(tf.equal(tensors['elem'],i))\n",
    "        atom_prop_i = tf.gather_nd(atom_prop_all, indices)\n",
    "        sample_id_i = tf.gather_nd(tensors['ind'][1], indices)\n",
    "        en += l.en_layer(sample_id_i, atom_prop_i, n_sample, [64,64,64],\n",
    "                         name='separate_en_{}'.format(i))\n",
    "    return en"
   ]
  },
  {
   "cell_type": "markdown",
   "metadata": {},
   "source": [
    "## Train and evaluation\n",
    "\n",
    "After that, the model can be readily trained."
   ]
  },
  {
   "cell_type": "code",
   "execution_count": 3,
   "metadata": {},
   "outputs": [],
   "source": [
    "filelist = glob('/home/yunqi/datasets/QM9/dsgdb9nsd/*.xyz')\n",
    "dataset = lambda: load_QM9_dataset(filelist, split_ratio={'train':8, 'test':2})\n",
    "dress, error = get_atomic_dress(dataset()['train'],[1,6,7,8,9],max_iter=2000)"
   ]
  },
  {
   "cell_type": "code",
   "execution_count": 4,
   "metadata": {},
   "outputs": [
    {
     "name": "stdout",
     "output_type": "stream",
     "text": [
      "INFO:tensorflow:Using config: {'_model_dir': '/tmp/hybrid_network', '_tf_random_seed': None, '_save_summary_steps': 100, '_save_checkpoints_steps': None, '_save_checkpoints_secs': 600, '_session_config': allow_soft_placement: true\n",
      "graph_options {\n",
      "  rewrite_options {\n",
      "    meta_optimizer_iterations: ONE\n",
      "  }\n",
      "}\n",
      ", '_keep_checkpoint_max': 5, '_keep_checkpoint_every_n_hours': 10000, '_log_step_count_steps': 500, '_train_distribute': None, '_device_fn': None, '_protocol': None, '_eval_distribute': None, '_experimental_distribute': None, '_service': None, '_cluster_spec': <tensorflow.python.training.server_lib.ClusterSpec object at 0x7f6ab6676828>, '_task_type': 'worker', '_task_id': 0, '_global_id_in_cluster': 0, '_master': '', '_evaluation_master': '', '_is_chief': True, '_num_ps_replicas': 0, '_num_worker_replicas': 1}\n"
     ]
    }
   ],
   "source": [
    "params = {'model_dir': '/tmp/hybrid_network',\n",
    "          'network': hybrid_network,\n",
    "          'netparam': {\n",
    "              'pre_level': 0,\n",
    "              'atom_types':[1, 6, 7, 8, 9],\n",
    "              'atomic_dress': dress},\n",
    "          'train': {\n",
    "              'learning_rate': 1e-3,\n",
    "              'en_scale': 627.5\n",
    "          }}\n",
    "config = tf.estimator.RunConfig(log_step_count_steps=500)\n",
    "model = potential_model(params, config)"
   ]
  },
  {
   "cell_type": "code",
   "execution_count": 5,
   "metadata": {
    "scrolled": false
   },
   "outputs": [
    {
     "name": "stdout",
     "output_type": "stream",
     "text": [
      "INFO:tensorflow:Not using Distribute Coordinator.\n",
      "INFO:tensorflow:Running training and evaluation locally (non-distributed).\n",
      "INFO:tensorflow:Start train and evaluate loop. The evaluate will happen after every checkpoint. Checkpoint frequency is determined based on RunConfig arguments: save_checkpoints_steps None or save_checkpoints_secs 600.\n",
      "INFO:tensorflow:Calling model_fn.\n",
      "INFO:tensorflow:Done calling model_fn.\n",
      "INFO:tensorflow:Create CheckpointSaverHook.\n",
      "INFO:tensorflow:Graph was finalized.\n",
      "INFO:tensorflow:Running local_init_op.\n",
      "INFO:tensorflow:Done running local_init_op.\n",
      "INFO:tensorflow:Saving checkpoints for 0 into /tmp/hybrid_network/model.ckpt.\n",
      "INFO:tensorflow:loss = 597.52576, step = 1\n",
      "INFO:tensorflow:global_step/sec: 2.86404\n",
      "INFO:tensorflow:loss = 271.3534, step = 501 (174.581 sec)\n",
      "INFO:tensorflow:global_step/sec: 2.86273\n",
      "INFO:tensorflow:loss = 125.232346, step = 1001 (174.660 sec)\n",
      "INFO:tensorflow:global_step/sec: 9.16026\n",
      "INFO:tensorflow:loss = 120.611374, step = 1501 (54.582 sec)\n",
      "INFO:tensorflow:global_step/sec: 16.2005\n",
      "INFO:tensorflow:loss = 102.55008, step = 2001 (30.863 sec)\n",
      "INFO:tensorflow:global_step/sec: 16.1788\n",
      "INFO:tensorflow:loss = 47.56402, step = 2501 (30.904 sec)\n",
      "INFO:tensorflow:global_step/sec: 16.5802\n",
      "INFO:tensorflow:loss = 57.453785, step = 3001 (30.158 sec)\n",
      "INFO:tensorflow:global_step/sec: 16.1574\n",
      "INFO:tensorflow:loss = 67.24249, step = 3501 (30.946 sec)\n",
      "INFO:tensorflow:global_step/sec: 16.0966\n",
      "INFO:tensorflow:loss = 27.333101, step = 4001 (31.062 sec)\n",
      "INFO:tensorflow:global_step/sec: 16.1268\n",
      "INFO:tensorflow:loss = 30.407406, step = 4501 (31.003 sec)\n",
      "INFO:tensorflow:Saving checkpoints for 4649 into /tmp/hybrid_network/model.ckpt.\n",
      "INFO:tensorflow:Calling model_fn.\n",
      "INFO:tensorflow:Done calling model_fn.\n",
      "INFO:tensorflow:Starting evaluation at 2019-03-08-09:42:32\n",
      "INFO:tensorflow:Graph was finalized.\n",
      "INFO:tensorflow:Restoring parameters from /tmp/hybrid_network/model.ckpt-4649\n",
      "INFO:tensorflow:Running local_init_op.\n",
      "INFO:tensorflow:Done running local_init_op.\n",
      "INFO:tensorflow:Evaluation [10/100]\n",
      "INFO:tensorflow:Evaluation [20/100]\n",
      "INFO:tensorflow:Evaluation [30/100]\n",
      "INFO:tensorflow:Evaluation [40/100]\n",
      "INFO:tensorflow:Evaluation [50/100]\n",
      "INFO:tensorflow:Evaluation [60/100]\n",
      "INFO:tensorflow:Evaluation [70/100]\n",
      "INFO:tensorflow:Evaluation [80/100]\n",
      "INFO:tensorflow:Evaluation [90/100]\n",
      "INFO:tensorflow:Evaluation [100/100]\n",
      "INFO:tensorflow:Finished evaluation at 2019-03-08-09:43:16\n",
      "INFO:tensorflow:Saving dict for global step 4649: METRICS/ENG_MAE = 4.840969, METRICS/ENG_RMSE = 6.899755, global_step = 4649, loss = 48.290005\n",
      "INFO:tensorflow:Saving 'checkpoint_path' summary for global step 4649: /tmp/hybrid_network/model.ckpt-4649\n",
      "INFO:tensorflow:global_step/sec: 6.48855\n",
      "INFO:tensorflow:loss = 30.420494, step = 5001 (77.059 sec)\n",
      "INFO:tensorflow:global_step/sec: 16.163\n",
      "INFO:tensorflow:loss = 29.152462, step = 5501 (30.936 sec)\n",
      "INFO:tensorflow:global_step/sec: 16.1084\n",
      "INFO:tensorflow:loss = 27.231432, step = 6001 (31.039 sec)\n",
      "INFO:tensorflow:global_step/sec: 16.4441\n",
      "INFO:tensorflow:loss = 16.379297, step = 6501 (30.407 sec)\n",
      "INFO:tensorflow:global_step/sec: 16.2522\n",
      "INFO:tensorflow:loss = 22.443405, step = 7001 (30.765 sec)\n",
      "INFO:tensorflow:global_step/sec: 16.1119\n",
      "INFO:tensorflow:loss = 17.558125, step = 7501 (31.032 sec)\n",
      "INFO:tensorflow:global_step/sec: 16.326\n",
      "INFO:tensorflow:loss = 25.258665, step = 8001 (30.627 sec)\n",
      "INFO:tensorflow:global_step/sec: 16.2763\n",
      "INFO:tensorflow:loss = 28.518215, step = 8501 (30.719 sec)\n",
      "INFO:tensorflow:global_step/sec: 16.2945\n",
      "INFO:tensorflow:loss = 25.198553, step = 9001 (30.685 sec)\n",
      "INFO:tensorflow:global_step/sec: 16.5088\n",
      "INFO:tensorflow:loss = 37.650322, step = 9501 (30.287 sec)\n",
      "INFO:tensorflow:Saving checkpoints for 10000 into /tmp/hybrid_network/model.ckpt.\n",
      "INFO:tensorflow:Skip the current checkpoint eval due to throttle secs (600 secs).\n",
      "INFO:tensorflow:Calling model_fn.\n",
      "INFO:tensorflow:Done calling model_fn.\n",
      "INFO:tensorflow:Starting evaluation at 2019-03-08-09:48:47\n",
      "INFO:tensorflow:Graph was finalized.\n",
      "INFO:tensorflow:Restoring parameters from /tmp/hybrid_network/model.ckpt-10000\n",
      "INFO:tensorflow:Running local_init_op.\n",
      "INFO:tensorflow:Done running local_init_op.\n",
      "INFO:tensorflow:Evaluation [10/100]\n",
      "INFO:tensorflow:Evaluation [20/100]\n",
      "INFO:tensorflow:Evaluation [30/100]\n",
      "INFO:tensorflow:Evaluation [40/100]\n",
      "INFO:tensorflow:Evaluation [50/100]\n",
      "INFO:tensorflow:Evaluation [60/100]\n",
      "INFO:tensorflow:Evaluation [70/100]\n",
      "INFO:tensorflow:Evaluation [80/100]\n",
      "INFO:tensorflow:Evaluation [90/100]\n",
      "INFO:tensorflow:Evaluation [100/100]\n",
      "INFO:tensorflow:Finished evaluation at 2019-03-08-09:49:02\n",
      "INFO:tensorflow:Saving dict for global step 10000: METRICS/ENG_MAE = 2.8952959, METRICS/ENG_RMSE = 4.5205894, global_step = 10000, loss = 21.22748\n",
      "INFO:tensorflow:Saving 'checkpoint_path' summary for global step 10000: /tmp/hybrid_network/model.ckpt-10000\n",
      "INFO:tensorflow:Loss for final step: 39.8865.\n"
     ]
    },
    {
     "data": {
      "text/plain": [
       "({'METRICS/ENG_MAE': 2.8952959,\n",
       "  'METRICS/ENG_RMSE': 4.5205894,\n",
       "  'loss': 21.22748,\n",
       "  'global_step': 10000},\n",
       " [])"
      ]
     },
     "execution_count": 5,
     "metadata": {},
     "output_type": "execute_result"
    }
   ],
   "source": [
    "# Preprocessing the datasets\n",
    "pre_fn = lambda tensors: pinn_network(tensors, preprocess=True, **params['netparam'])\n",
    "train = lambda: dataset()['train'].cache().repeat().shuffle(1000).batch(100).map(pre_fn, 8)\n",
    "test = lambda: dataset()['test'].cache().repeat().batch(100).map(pre_fn, 8)\n",
    "\n",
    "# Running specs\n",
    "train_spec = tf.estimator.TrainSpec(input_fn=train, max_steps=1e4)\n",
    "eval_spec = tf.estimator.EvalSpec(input_fn=test, steps=100)\n",
    "tf.estimator.train_and_evaluate(model, train_spec, eval_spec)"
   ]
  },
  {
   "cell_type": "markdown",
   "metadata": {},
   "source": [
    "## Conclusions\n",
    "\n",
    "Our hybrid network beats the original PiNN at the cost of slower training for this test, \n",
    "although both model have not reached their full potential. Feel free to look into the \n",
    "definitions of `networks` & their `layers` and improve them with your custom models!\n",
    "\n",
    "**Note** You can reuse a model given the same network function, however, there's \n",
    "currently no way to recover a model if you lost you original function definition."
   ]
  }
 ],
 "metadata": {
  "kernelspec": {
   "display_name": "Python 3",
   "language": "python",
   "name": "python3"
  },
  "language_info": {
   "codemirror_mode": {
    "name": "ipython",
    "version": 3
   },
   "file_extension": ".py",
   "mimetype": "text/x-python",
   "name": "python",
   "nbconvert_exporter": "python",
   "pygments_lexer": "ipython3",
   "version": "3.6.7"
  }
 },
 "nbformat": 4,
 "nbformat_minor": 2
}
