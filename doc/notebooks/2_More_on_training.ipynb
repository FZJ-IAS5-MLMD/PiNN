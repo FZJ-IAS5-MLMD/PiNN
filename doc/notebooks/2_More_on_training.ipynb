{
 "cells": [
  {
   "cell_type": "markdown",
   "metadata": {},
   "source": [
    "# 2. More on training\n",
    "This notebooks covers more details on tweaking and optimizing the training process"
   ]
  },
  {
   "cell_type": "code",
   "execution_count": 1,
   "metadata": {},
   "outputs": [],
   "source": [
    "import os, warnings\n",
    "import tensorflow as tf\n",
    "\n",
    "import matplotlib.pyplot as plt\n",
    "\n",
    "from glob import glob\n",
    "from pinn.io import load_qm9, sparse_batch\n",
    "from pinn.networks import pinn_network\n",
    "from pinn.utils import get_atomic_dress\n",
    "from pinn.models import potential_model\n",
    "\n",
    "os.environ['CUDA_VISIBLE_DEVICES'] = ''\n",
    "index_warning = 'Converting sparse IndexedSlices'\n",
    "warnings.filterwarnings('ignore', index_warning)"
   ]
  },
  {
   "cell_type": "markdown",
   "metadata": {},
   "source": [
    "## Optimizing the pipeline\n",
    "### Caching\n",
    "Caching stores the decoded dataset in the memory."
   ]
  },
  {
   "cell_type": "code",
   "execution_count": 2,
   "metadata": {},
   "outputs": [],
   "source": [
    "# For the purpose of testing, we use only 1000 samples from QM9\n",
    "filelist = glob('/home/yunqi/datasets/QM9/dsgdb9nsd/*.xyz')[:1000]\n",
    "dataset = lambda: load_qm9(filelist, split=1)"
   ]
  },
  {
   "cell_type": "code",
   "execution_count": 3,
   "metadata": {},
   "outputs": [
    {
     "name": "stdout",
     "output_type": "stream",
     "text": [
      "WARNING:tensorflow:From /home/yunqi/miniconda3/lib/python3.6/site-packages/tensorflow/python/data/ops/dataset_ops.py:429: py_func (from tensorflow.python.ops.script_ops) is deprecated and will be removed in a future version.\n",
      "Instructions for updating:\n",
      "tf.py_func is deprecated in TF V2. Instead, use\n",
      "    tf.py_function, which takes a python function which manipulates tf eager\n",
      "    tensors instead of numpy arrays. It's easy to convert a tf eager tensor to\n",
      "    an ndarray (just call tensor.numpy()) but having access to eager tensors\n",
      "    means `tf.py_function`s can use accelerators such as GPUs as well as\n",
      "    being differentiable using a gradient tape.\n",
      "    \n",
      "87.5 ms ± 3.58 ms per loop (mean ± std. dev. of 7 runs, 10 loops each)\n"
     ]
    }
   ],
   "source": [
    "d = dataset().repeat().apply(sparse_batch(100))\n",
    "tensors = d.make_one_shot_iterator().get_next()\n",
    "with tf.Session() as sess:\n",
    "    for i in range(10):\n",
    "        sess.run(tensors) # \"Warm up\" the graph\n",
    "    %timeit sess.run(tensors)"
   ]
  },
  {
   "cell_type": "markdown",
   "metadata": {},
   "source": [
    "This speed indicates the IO limit of our current setting.\n",
    "\n",
    "Now let's cache the dataset to the memory."
   ]
  },
  {
   "cell_type": "code",
   "execution_count": 4,
   "metadata": {},
   "outputs": [
    {
     "name": "stdout",
     "output_type": "stream",
     "text": [
      "257 µs ± 25.2 µs per loop (mean ± std. dev. of 7 runs, 1000 loops each)\n"
     ]
    }
   ],
   "source": [
    "d = dataset().cache().repeat().apply(sparse_batch(100))\n",
    "tensors = d.make_one_shot_iterator().get_next()\n",
    "with tf.Session() as sess:\n",
    "    for i in range(10):\n",
    "        sess.run(tensors) # \"Warm up\" the graph, dataset is cached here\n",
    "    %timeit sess.run(tensors)"
   ]
  },
  {
   "cell_type": "markdown",
   "metadata": {},
   "source": [
    "### Preprocessing\n",
    "You might also see a notable difference in the performance with and without preprocessing, this is especially helpful when you are training with GPUs."
   ]
  },
  {
   "cell_type": "code",
   "execution_count": 5,
   "metadata": {},
   "outputs": [
    {
     "name": "stdout",
     "output_type": "stream",
     "text": [
      "WARNING:tensorflow:From /home/yunqi/work/pinn_proj/PiNN_dev/pinn/layers.py:80: dense (from tensorflow.python.layers.core) is deprecated and will be removed in a future version.\n",
      "Instructions for updating:\n",
      "Use keras.layers.dense instead.\n",
      "WARNING:tensorflow:From /home/yunqi/miniconda3/lib/python3.6/site-packages/tensorflow/python/framework/op_def_library.py:263: colocate_with (from tensorflow.python.framework.ops) is deprecated and will be removed in a future version.\n",
      "Instructions for updating:\n",
      "Colocations handled automatically by placer.\n",
      "36.3 ms ± 3.62 ms per loop (mean ± std. dev. of 7 runs, 10 loops each)\n"
     ]
    }
   ],
   "source": [
    "d = dataset().cache().repeat().apply(sparse_batch(100))\n",
    "tensors = d.make_one_shot_iterator().get_next()\n",
    "output = pinn_network(tensors, pre_level=0)\n",
    "with tf.Session() as sess:\n",
    "    sess.run(tf.global_variables_initializer())\n",
    "    for i in range(10):\n",
    "        sess.run(output)\n",
    "    %timeit sess.run(output)"
   ]
  },
  {
   "cell_type": "markdown",
   "metadata": {},
   "source": [
    "The pinn network provides two levels of preprocessing:\n",
    "\n",
    "- pre_level = 1 computes the atomic dress and the neighbour list\n",
    "- pre_level = 2 further computes everything not trainable (the symmetry function and the pi basis)"
   ]
  },
  {
   "cell_type": "code",
   "execution_count": 6,
   "metadata": {
    "scrolled": false
   },
   "outputs": [
    {
     "name": "stdout",
     "output_type": "stream",
     "text": [
      "23.6 ms ± 1.48 ms per loop (mean ± std. dev. of 7 runs, 10 loops each)\n"
     ]
    }
   ],
   "source": [
    "tf.reset_default_graph()\n",
    "\n",
    "pre_fn = lambda tensors: pinn_network(tensors, pre_level=1, preprocess=True)\n",
    "d = dataset().cache().repeat().apply(sparse_batch(100)).map(pre_fn, num_parallel_calls=16)\n",
    "tensors = d.make_one_shot_iterator().get_next()\n",
    "output = pinn_network(tensors, pre_level=1)\n",
    "with tf.Session() as sess:\n",
    "    sess.run(tf.global_variables_initializer())\n",
    "    for i in range(10):\n",
    "        sess.run(output)\n",
    "    %timeit sess.run(output)"
   ]
  },
  {
   "cell_type": "code",
   "execution_count": 7,
   "metadata": {},
   "outputs": [
    {
     "name": "stdout",
     "output_type": "stream",
     "text": [
      "21.1 ms ± 1.39 ms per loop (mean ± std. dev. of 7 runs, 10 loops each)\n"
     ]
    }
   ],
   "source": [
    "tf.reset_default_graph()\n",
    "\n",
    "pre_fn = lambda tensors: pinn_network(tensors, pre_level=2, preprocess=True)\n",
    "d = dataset().cache().repeat().apply(sparse_batch(100)).map(pre_fn, num_parallel_calls=16)\n",
    "tensors = d.make_one_shot_iterator().get_next()\n",
    "output = pinn_network(tensors, pre_level=2)\n",
    "with tf.Session() as sess:\n",
    "    sess.run(tf.global_variables_initializer())\n",
    "    for i in range(10):\n",
    "        sess.run(output)\n",
    "    %timeit sess.run(output)"
   ]
  },
  {
   "cell_type": "markdown",
   "metadata": {},
   "source": [
    "You can even cache the preprocessed data."
   ]
  },
  {
   "cell_type": "code",
   "execution_count": 8,
   "metadata": {},
   "outputs": [
    {
     "name": "stdout",
     "output_type": "stream",
     "text": [
      "23.6 ms ± 2.71 ms per loop (mean ± std. dev. of 7 runs, 10 loops each)\n"
     ]
    }
   ],
   "source": [
    "tf.reset_default_graph()\n",
    "\n",
    "pre_fn = lambda tensors: pinn_network(tensors, pre_level=2, preprocess=True)\n",
    "d = dataset().apply(sparse_batch(100)).map(pre_fn).cache().repeat()\n",
    "tensors = d.make_one_shot_iterator().get_next()\n",
    "output = pinn_network(tensors, pre_level=2)\n",
    "with tf.Session() as sess:\n",
    "    sess.run(tf.global_variables_initializer())\n",
    "    for i in range(10):\n",
    "        sess.run(output)\n",
    "    %timeit sess.run(output)"
   ]
  },
  {
   "cell_type": "markdown",
   "metadata": {},
   "source": [
    "## Atomic dress\n",
    "As is in many machine learning tasks, scaling and aligning the labels can \n",
    "enhance the performance of the models, and avoid numerical instability.\n",
    "\n",
    "For datasets like QM9, we can assign a atomic energy to each atom according\n",
    "to their elements to approximate the total energy. This can be done by simple linear optimizing. We provide a simple tool to generate such \"atomic dress\"."
   ]
  },
  {
   "cell_type": "code",
   "execution_count": 9,
   "metadata": {},
   "outputs": [],
   "source": [
    "filelist = glob('/home/yunqi/datasets/QM9/dsgdb9nsd/*.xyz')\n",
    "dataset = lambda: load_qm9(filelist, split={'train':8, 'test':2})\n",
    "dress, error = get_atomic_dress(dataset()['train'],[1,6,7,8,9],max_iter=2000)"
   ]
  },
  {
   "cell_type": "markdown",
   "metadata": {},
   "source": [
    "Applying the atomic dress convert the QM9 energies to a \"normal\" distribution.\n",
    "It also gives us some sense about the relative distribution of energies, and \n",
    "how much our neural network improves from the naive guess of atomic dress.\n",
    "\n",
    "After applying the atomic dress, turns out the distribution of our training set \n",
    "is only about 0.05 Hartree, or 30 kcal/mol"
   ]
  },
  {
   "cell_type": "code",
   "execution_count": 10,
   "metadata": {},
   "outputs": [
    {
     "data": {
      "text/plain": [
       "{1: -0.6039418437152411,\n",
       " 6: -38.07358460885415,\n",
       " 7: -54.75154708631868,\n",
       " 8: -75.22503739913694,\n",
       " 9: -99.87073186940984}"
      ]
     },
     "execution_count": 10,
     "metadata": {},
     "output_type": "execute_result"
    },
    {
     "data": {
      "image/png": "[encoded data removed]",
      "text/plain": [
       "<Figure size 432x288 with 1 Axes>"
      ]
     },
     "metadata": {
      "needs_background": "light"
     },
     "output_type": "display_data"
    }
   ],
   "source": [
    "plt.hist(error,50)\n",
    "dress"
   ]
  },
  {
   "cell_type": "markdown",
   "metadata": {},
   "source": [
    "## Training with the optimized pipeline"
   ]
  },
  {
   "cell_type": "code",
   "execution_count": 16,
   "metadata": {
    "scrolled": false
   },
   "outputs": [],
   "source": [
    "params = {'model_dir': '/tmp/PiNN_QM9_pipeline',\n",
    "          'network': 'pinn_network',\n",
    "          'netparam': {\n",
    "              'pre_level': 2,\n",
    "              'atom_types':[1, 6, 7, 8, 9],\n",
    "              'atomic_dress': dress},\n",
    "          'train': {\n",
    "              'learning_rate': 1e-3, # Relatively large learning rate\n",
    "              'en_scale': 627.5 # Here we scale the model to kcal/mol\n",
    "          }}\n",
    "\n",
    "# The logging behaviour of estimator can be controlled here\n",
    "config = tf.estimator.RunConfig(log_step_count_steps=500)\n",
    "\n",
    "# Preprocessing the datasets\n",
    "pre_fn = lambda tensors: pinn_network(tensors, preprocess=True, **params['netparam'])\n",
    "train = lambda: dataset()['train'].cache().repeat().shuffle(1000).apply(sparse_batch(100)).map(pre_fn, 8)\n",
    "test = lambda: dataset()['test'].cache().repeat().apply(sparse_batch(100)).map(pre_fn, 8)\n",
    "\n",
    "# Running specs\n",
    "train_spec = tf.estimator.TrainSpec(input_fn=train, max_steps=1e4)\n",
    "eval_spec = tf.estimator.EvalSpec(input_fn=test, steps=100)"
   ]
  },
  {
   "cell_type": "code",
   "execution_count": 17,
   "metadata": {
    "scrolled": false
   },
   "outputs": [
    {
     "name": "stdout",
     "output_type": "stream",
     "text": [
      "INFO:tensorflow:Using config: {'_model_dir': '/tmp/PiNN_QM9_pipeline', '_tf_random_seed': None, '_save_summary_steps': 100, '_save_checkpoints_steps': None, '_save_checkpoints_secs': 600, '_session_config': allow_soft_placement: true\n",
      "graph_options {\n",
      "  rewrite_options {\n",
      "    meta_optimizer_iterations: ONE\n",
      "  }\n",
      "}\n",
      ", '_keep_checkpoint_max': 5, '_keep_checkpoint_every_n_hours': 10000, '_log_step_count_steps': 500, '_train_distribute': None, '_device_fn': None, '_protocol': None, '_eval_distribute': None, '_experimental_distribute': None, '_service': None, '_cluster_spec': <tensorflow.python.training.server_lib.ClusterSpec object at 0x7f7086b1c0b8>, '_task_type': 'worker', '_task_id': 0, '_global_id_in_cluster': 0, '_master': '', '_evaluation_master': '', '_is_chief': True, '_num_ps_replicas': 0, '_num_worker_replicas': 1}\n",
      "INFO:tensorflow:Not using Distribute Coordinator.\n",
      "INFO:tensorflow:Running training and evaluation locally (non-distributed).\n",
      "INFO:tensorflow:Start train and evaluate loop. The evaluate will happen after every checkpoint. Checkpoint frequency is determined based on RunConfig arguments: save_checkpoints_steps None or save_checkpoints_secs 600.\n",
      "INFO:tensorflow:Calling model_fn.\n",
      "INFO:tensorflow:Done calling model_fn.\n",
      "INFO:tensorflow:Create CheckpointSaverHook.\n",
      "INFO:tensorflow:Graph was finalized.\n",
      "INFO:tensorflow:Running local_init_op.\n",
      "INFO:tensorflow:Done running local_init_op.\n",
      "INFO:tensorflow:Saving checkpoints for 0 into /tmp/PiNN_QM9_pipeline/model.ckpt.\n",
      "INFO:tensorflow:loss = 884.91095, step = 1\n",
      "INFO:tensorflow:global_step/sec: 13.6697\n",
      "INFO:tensorflow:loss = 181.90857, step = 501 (36.581 sec)\n",
      "INFO:tensorflow:global_step/sec: 13.6444\n",
      "INFO:tensorflow:loss = 223.97652, step = 1001 (36.645 sec)\n",
      "INFO:tensorflow:global_step/sec: 16.7218\n",
      "INFO:tensorflow:loss = 102.54984, step = 1501 (29.903 sec)\n",
      "INFO:tensorflow:global_step/sec: 18.0526\n",
      "INFO:tensorflow:loss = 95.56961, step = 2001 (27.694 sec)\n",
      "INFO:tensorflow:global_step/sec: 18.0946\n",
      "INFO:tensorflow:loss = 95.20323, step = 2501 (27.633 sec)\n",
      "INFO:tensorflow:global_step/sec: 17.6253\n",
      "INFO:tensorflow:loss = 64.58885, step = 3001 (28.368 sec)\n",
      "INFO:tensorflow:global_step/sec: 18.2027\n",
      "INFO:tensorflow:loss = 38.12014, step = 3501 (27.468 sec)\n",
      "INFO:tensorflow:global_step/sec: 18.0378\n",
      "INFO:tensorflow:loss = 42.759766, step = 4001 (27.719 sec)\n",
      "INFO:tensorflow:global_step/sec: 17.8693\n",
      "INFO:tensorflow:loss = 64.06951, step = 4501 (27.982 sec)\n",
      "INFO:tensorflow:global_step/sec: 18.0179\n",
      "INFO:tensorflow:loss = 39.82077, step = 5001 (27.749 sec)\n",
      "INFO:tensorflow:global_step/sec: 16.723\n",
      "INFO:tensorflow:loss = 67.52896, step = 5501 (29.899 sec)\n",
      "INFO:tensorflow:global_step/sec: 17.4352\n",
      "INFO:tensorflow:loss = 57.85945, step = 6001 (28.678 sec)\n",
      "INFO:tensorflow:global_step/sec: 17.9004\n",
      "INFO:tensorflow:loss = 32.298183, step = 6501 (27.932 sec)\n",
      "INFO:tensorflow:global_step/sec: 17.9142\n",
      "INFO:tensorflow:loss = 51.77696, step = 7001 (27.911 sec)\n",
      "INFO:tensorflow:global_step/sec: 17.8931\n",
      "INFO:tensorflow:loss = 28.079971, step = 7501 (27.944 sec)\n",
      "INFO:tensorflow:global_step/sec: 17.8818\n",
      "INFO:tensorflow:loss = 25.574047, step = 8001 (27.961 sec)\n",
      "INFO:tensorflow:global_step/sec: 17.9586\n",
      "INFO:tensorflow:loss = 38.37402, step = 8501 (27.842 sec)\n",
      "INFO:tensorflow:global_step/sec: 17.1209\n",
      "INFO:tensorflow:loss = 33.86344, step = 9001 (29.204 sec)\n",
      "INFO:tensorflow:global_step/sec: 16.3432\n",
      "INFO:tensorflow:loss = 29.340754, step = 9501 (30.594 sec)\n",
      "INFO:tensorflow:Saving checkpoints for 10000 into /tmp/PiNN_QM9_pipeline/model.ckpt.\n",
      "INFO:tensorflow:Calling model_fn.\n",
      "INFO:tensorflow:Done calling model_fn.\n",
      "INFO:tensorflow:Starting evaluation at 2019-06-13T15:22:21Z\n",
      "INFO:tensorflow:Graph was finalized.\n",
      "INFO:tensorflow:Restoring parameters from /tmp/PiNN_QM9_pipeline/model.ckpt-10000\n",
      "INFO:tensorflow:Running local_init_op.\n",
      "INFO:tensorflow:Done running local_init_op.\n",
      "INFO:tensorflow:Evaluation [10/100]\n",
      "INFO:tensorflow:Evaluation [20/100]\n",
      "INFO:tensorflow:Evaluation [30/100]\n",
      "INFO:tensorflow:Evaluation [40/100]\n",
      "INFO:tensorflow:Evaluation [50/100]\n",
      "INFO:tensorflow:Evaluation [60/100]\n",
      "INFO:tensorflow:Evaluation [70/100]\n",
      "INFO:tensorflow:Evaluation [80/100]\n",
      "INFO:tensorflow:Evaluation [90/100]\n",
      "INFO:tensorflow:Evaluation [100/100]\n",
      "INFO:tensorflow:Finished evaluation at 2019-06-13-15:22:33\n",
      "INFO:tensorflow:Saving dict for global step 10000: METRICS/ENG_MAE = 3.7256644, METRICS/ENG_RMSE = 5.2280016, global_step = 10000, loss = 27.331995\n",
      "INFO:tensorflow:Saving 'checkpoint_path' summary for global step 10000: /tmp/PiNN_QM9_pipeline/model.ckpt-10000\n",
      "INFO:tensorflow:Loss for final step: 24.780613.\n"
     ]
    },
    {
     "data": {
      "text/plain": [
       "({'METRICS/ENG_MAE': 3.7256644,\n",
       "  'METRICS/ENG_RMSE': 5.2280016,\n",
       "  'loss': 27.331995,\n",
       "  'global_step': 10000},\n",
       " [])"
      ]
     },
     "execution_count": 17,
     "metadata": {},
     "output_type": "execute_result"
    }
   ],
   "source": [
    "model = potential_model(params, config)\n",
    "tf.estimator.train_and_evaluate(model, train_spec, eval_spec)"
   ]
  },
  {
   "cell_type": "markdown",
   "metadata": {},
   "source": [
    "## Monitoring\n",
    "It's recommended to monitor the training with Tensorboard instead of the stdout here.  \n",
    "Try `tensorboard --logdir /tmp`, and you can probably see this.\n",
    "\n",
    "![](tensorboard.png)\n"
   ]
  },
  {
   "cell_type": "markdown",
   "metadata": {},
   "source": [
    "## Parallelization with tf.Estimator\n",
    "\n",
    "The estimator api makes it extremely easy to train on multiple GPUs."
   ]
  },
  {
   "cell_type": "code",
   "execution_count": null,
   "metadata": {},
   "outputs": [],
   "source": [
    "# suppose you have two cards\n",
    "distribution = tf.contrib.distribute.MirroredStrategy(num_gpus=2)\n",
    "config = tf.estimator.RunConfig(train_distribute=distribution)\n",
    "model = potential_model(params, config)"
   ]
  },
  {
   "cell_type": "markdown",
   "metadata": {},
   "source": [
    "## Conclusions\n",
    "\n",
    "Congratulations! You can now train atomic neural networks with \n",
    "state-of-art accuracy and speed.\n",
    "\n",
    "\n",
    "But there's more. With PiNN, the components of ANNs are modulized.\n",
    "Read following notebooks to see how you can build you own ANN. "
   ]
  }
 ],
 "metadata": {
  "kernelspec": {
   "display_name": "Python 3",
   "language": "python",
   "name": "python3"
  },
  "language_info": {
   "codemirror_mode": {
    "name": "ipython",
    "version": 3
   },
   "file_extension": ".py",
   "mimetype": "text/x-python",
   "name": "python",
   "nbconvert_exporter": "python",
   "pygments_lexer": "ipython3",
   "version": "3.6.7"
  }
 },
 "nbformat": 4,
 "nbformat_minor": 2
}
