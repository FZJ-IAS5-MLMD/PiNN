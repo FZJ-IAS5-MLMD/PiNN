{
 "cells": [
  {
   "cell_type": "markdown",
   "metadata": {},
   "source": [
    "# 2. More on training\n",
    "This notebooks covers more details on tweaking and optimizing the training process"
   ]
  },
  {
   "cell_type": "code",
   "execution_count": 1,
   "metadata": {},
   "outputs": [],
   "source": [
    "import os, warnings\n",
    "import tensorflow as tf\n",
    "\n",
    "import matplotlib.pyplot as plt\n",
    "\n",
    "from glob import glob\n",
    "from pinn.datasets.qm9 import load_QM9_dataset\n",
    "from pinn.networks import pinn_network\n",
    "from pinn.utils import get_atomic_dress\n",
    "from pinn.models import potential_model\n",
    "\n",
    "os.environ['CUDA_VISIBLE_DEVICES'] = ''\n",
    "index_warning = 'Converting sparse IndexedSlices'\n",
    "warnings.filterwarnings('ignore', index_warning)"
   ]
  },
  {
   "cell_type": "markdown",
   "metadata": {},
   "source": [
    "## Optimizing the pipeline\n",
    "### Caching\n",
    "Caching stores the decoded dataset in the memory."
   ]
  },
  {
   "cell_type": "code",
   "execution_count": 2,
   "metadata": {},
   "outputs": [],
   "source": [
    "# For the purpose of testing, we use only 1000 samples from QM9\n",
    "filelist = glob('/home/yunqi/datasets/QM9/dsgdb9nsd/*.xyz')[:1000]\n",
    "dataset = load_QM9_dataset(filelist, split_ratio=1)"
   ]
  },
  {
   "cell_type": "code",
   "execution_count": 3,
   "metadata": {},
   "outputs": [
    {
     "name": "stdout",
     "output_type": "stream",
     "text": [
      "132 ms ± 3.85 ms per loop (mean ± std. dev. of 7 runs, 10 loops each)\n"
     ]
    }
   ],
   "source": [
    "d = dataset.repeat().batch(100)\n",
    "tensors = d.make_one_shot_iterator().get_next()\n",
    "with tf.Session() as sess:\n",
    "    for i in range(10):\n",
    "        sess.run(tensors) # \"Warm up\" the graph\n",
    "    %timeit sess.run(tensors)"
   ]
  },
  {
   "cell_type": "markdown",
   "metadata": {},
   "source": [
    "This speed indicates the IO limit of our current setting.\n",
    "\n",
    "Now let's cache the dataset to the memory."
   ]
  },
  {
   "cell_type": "code",
   "execution_count": 4,
   "metadata": {},
   "outputs": [
    {
     "name": "stdout",
     "output_type": "stream",
     "text": [
      "470 µs ± 151 µs per loop (mean ± std. dev. of 7 runs, 1000 loops each)\n"
     ]
    }
   ],
   "source": [
    "d = dataset.cache().repeat().batch(100)\n",
    "tensors = d.make_one_shot_iterator().get_next()\n",
    "with tf.Session() as sess:\n",
    "    for i in range(10):\n",
    "        sess.run(tensors) # \"Warm up\" the graph, dataset is cached here\n",
    "    %timeit sess.run(tensors)"
   ]
  },
  {
   "cell_type": "markdown",
   "metadata": {},
   "source": [
    "### Preprocessing\n",
    "You might also see a notable difference in the performance with and without preprocessing, this is especially helpful when you are training with GPUs."
   ]
  },
  {
   "cell_type": "code",
   "execution_count": 5,
   "metadata": {},
   "outputs": [
    {
     "name": "stdout",
     "output_type": "stream",
     "text": [
      "25.4 ms ± 2.48 ms per loop (mean ± std. dev. of 7 runs, 10 loops each)\n"
     ]
    }
   ],
   "source": [
    "tf.reset_default_graph()\n",
    "\n",
    "d = dataset.cache().repeat().batch(100)\n",
    "tensors = d.make_one_shot_iterator().get_next()\n",
    "output = pinn_network(tensors, pre_level=0)\n",
    "with tf.Session() as sess:\n",
    "    sess.run(tf.global_variables_initializer())\n",
    "    for i in range(10):\n",
    "        sess.run(output)\n",
    "    %timeit sess.run(output)"
   ]
  },
  {
   "cell_type": "markdown",
   "metadata": {},
   "source": [
    "The pinn network provides two levels of preprocessing:\n",
    "\n",
    "- pre_level = 1 computes the atomic dress and the neighbour list\n",
    "- pre_level = 2 further computes everything not trainable (the symmetry function and the pi basis)"
   ]
  },
  {
   "cell_type": "code",
   "execution_count": 6,
   "metadata": {},
   "outputs": [
    {
     "name": "stdout",
     "output_type": "stream",
     "text": [
      "17.5 ms ± 636 µs per loop (mean ± std. dev. of 7 runs, 100 loops each)\n"
     ]
    }
   ],
   "source": [
    "tf.reset_default_graph()\n",
    "\n",
    "pre_fn = lambda tensors: pinn_network(tensors, pre_level=1, preprocess=True)\n",
    "d = dataset.cache().repeat().batch(100).map(pre_fn, num_parallel_calls=16)\n",
    "tensors = d.make_one_shot_iterator().get_next()\n",
    "output = pinn_network(tensors, pre_level=1)\n",
    "with tf.Session() as sess:\n",
    "    sess.run(tf.global_variables_initializer())\n",
    "    for i in range(10):\n",
    "        sess.run(output)\n",
    "    %timeit sess.run(output)"
   ]
  },
  {
   "cell_type": "code",
   "execution_count": 7,
   "metadata": {},
   "outputs": [
    {
     "name": "stdout",
     "output_type": "stream",
     "text": [
      "16.6 ms ± 538 µs per loop (mean ± std. dev. of 7 runs, 100 loops each)\n"
     ]
    }
   ],
   "source": [
    "tf.reset_default_graph()\n",
    "\n",
    "pre_fn = lambda tensors: pinn_network(tensors, pre_level=2, preprocess=True)\n",
    "d = dataset.cache().repeat().batch(100).map(pre_fn, num_parallel_calls=16)\n",
    "tensors = d.make_one_shot_iterator().get_next()\n",
    "output = pinn_network(tensors, pre_level=2)\n",
    "with tf.Session() as sess:\n",
    "    sess.run(tf.global_variables_initializer())\n",
    "    for i in range(10):\n",
    "        sess.run(output)\n",
    "    %timeit sess.run(output)"
   ]
  },
  {
   "cell_type": "markdown",
   "metadata": {},
   "source": [
    "You can even cache the preprocessed data."
   ]
  },
  {
   "cell_type": "code",
   "execution_count": 8,
   "metadata": {},
   "outputs": [
    {
     "name": "stdout",
     "output_type": "stream",
     "text": [
      "15.9 ms ± 725 µs per loop (mean ± std. dev. of 7 runs, 100 loops each)\n"
     ]
    }
   ],
   "source": [
    "tf.reset_default_graph()\n",
    "\n",
    "pre_fn = lambda tensors: pinn_network(tensors, pre_level=2, preprocess=True)\n",
    "d = dataset.batch(100).map(pre_fn).cache().repeat()\n",
    "tensors = d.make_one_shot_iterator().get_next()\n",
    "output = pinn_network(tensors, pre_level=2)\n",
    "with tf.Session() as sess:\n",
    "    sess.run(tf.global_variables_initializer())\n",
    "    for i in range(10):\n",
    "        sess.run(output)\n",
    "    %timeit sess.run(output)"
   ]
  },
  {
   "cell_type": "markdown",
   "metadata": {},
   "source": [
    "## Atomic dress\n",
    "As is in many machine learning tasks, scaling and aligning the labels can \n",
    "enhance the performance of the models, and avoid numerical instability.\n",
    "\n",
    "For datasets like QM9, we can assign a atomic energy to each atom according\n",
    "to their elements to approximate the total energy. This can be done by simple linear optimizing. We provide a simple tool to generate such \"atomic dress\"."
   ]
  },
  {
   "cell_type": "code",
   "execution_count": 9,
   "metadata": {},
   "outputs": [],
   "source": [
    "filelist = glob('/home/yunqi/datasets/QM9/dsgdb9nsd/*.xyz')\n",
    "dataset = lambda: load_QM9_dataset(filelist, split_ratio={'train':8, 'test':2})\n",
    "dress, error = get_atomic_dress(dataset()['train'],[1,6,7,8,9],max_iter=2000)"
   ]
  },
  {
   "cell_type": "markdown",
   "metadata": {},
   "source": [
    "Applying the atomic dress convert the QM9 energies to a \"normal\" distribution.\n",
    "It also gives us some sense about the relative distribution of energies, and \n",
    "how much our neural network improves from the naive guess of atomic dress.\n",
    "\n",
    "After applying the atomic dress, turns out the distribution of our training set \n",
    "is only about 0.05 Hartree, or 30 kcal/mol"
   ]
  },
  {
   "cell_type": "code",
   "execution_count": 10,
   "metadata": {},
   "outputs": [
    {
     "data": {
      "text/plain": [
       "{1: -0.6039418437152411,\n",
       " 6: -38.07358460885415,\n",
       " 7: -54.75154708631868,\n",
       " 8: -75.22503739913694,\n",
       " 9: -99.87073186940984}"
      ]
     },
     "execution_count": 10,
     "metadata": {},
     "output_type": "execute_result"
    },
    {
     "data": {
      "image/png": "[encoded data removed]",
      "text/plain": [
       "<Figure size 432x288 with 1 Axes>"
      ]
     },
     "metadata": {
      "needs_background": "light"
     },
     "output_type": "display_data"
    }
   ],
   "source": [
    "plt.hist(error,50)\n",
    "dress"
   ]
  },
  {
   "cell_type": "markdown",
   "metadata": {},
   "source": [
    "## Training with the optimized pipeline"
   ]
  },
  {
   "cell_type": "code",
   "execution_count": 11,
   "metadata": {
    "scrolled": false
   },
   "outputs": [],
   "source": [
    "params = {'model_dir': '/tmp/PiNN_QM9_pipeline',\n",
    "          'network': 'pinn_network',\n",
    "          'netparam': {\n",
    "              'pre_level': 2,\n",
    "              'atom_types':[1, 6, 7, 8, 9],\n",
    "              'atomic_dress': dress},\n",
    "          'train': {\n",
    "              'learning_rate': 1e-3, # Relatively large learning rate\n",
    "              'en_scale': 627.5 # Here we scale the model to kcal/mol\n",
    "          }}\n",
    "\n",
    "# The logging behaviour of estimator can be controlled here\n",
    "config = tf.estimator.RunConfig(log_step_count_steps=500)\n",
    "\n",
    "# Preprocessing the datasets\n",
    "pre_fn = lambda tensors: pinn_network(tensors, preprocess=True, **params['netparam'])\n",
    "train = lambda: dataset()['train'].cache().repeat().shuffle(1000).batch(100).map(pre_fn, 8)\n",
    "test = lambda: dataset()['test'].cache().repeat().batch(100).map(pre_fn, 8)\n",
    "\n",
    "# Running specs\n",
    "train_spec = tf.estimator.TrainSpec(input_fn=train, max_steps=1e4)\n",
    "eval_spec = tf.estimator.EvalSpec(input_fn=test, steps=100)"
   ]
  },
  {
   "cell_type": "code",
   "execution_count": 12,
   "metadata": {},
   "outputs": [
    {
     "name": "stdout",
     "output_type": "stream",
     "text": [
      "INFO:tensorflow:Using config: {'_model_dir': '/tmp/PiNN_QM9_pipeline', '_tf_random_seed': None, '_save_summary_steps': 100, '_save_checkpoints_steps': None, '_save_checkpoints_secs': 600, '_session_config': allow_soft_placement: true\n",
      "graph_options {\n",
      "  rewrite_options {\n",
      "    meta_optimizer_iterations: ONE\n",
      "  }\n",
      "}\n",
      ", '_keep_checkpoint_max': 5, '_keep_checkpoint_every_n_hours': 10000, '_log_step_count_steps': 500, '_train_distribute': None, '_device_fn': None, '_protocol': None, '_eval_distribute': None, '_experimental_distribute': None, '_service': None, '_cluster_spec': <tensorflow.python.training.server_lib.ClusterSpec object at 0x7f7d243035f8>, '_task_type': 'worker', '_task_id': 0, '_global_id_in_cluster': 0, '_master': '', '_evaluation_master': '', '_is_chief': True, '_num_ps_replicas': 0, '_num_worker_replicas': 1}\n",
      "INFO:tensorflow:Not using Distribute Coordinator.\n",
      "INFO:tensorflow:Running training and evaluation locally (non-distributed).\n",
      "INFO:tensorflow:Start train and evaluate loop. The evaluate will happen after every checkpoint. Checkpoint frequency is determined based on RunConfig arguments: save_checkpoints_steps None or save_checkpoints_secs 600.\n",
      "INFO:tensorflow:Calling model_fn.\n",
      "INFO:tensorflow:Done calling model_fn.\n",
      "INFO:tensorflow:Create CheckpointSaverHook.\n",
      "INFO:tensorflow:Graph was finalized.\n",
      "INFO:tensorflow:Running local_init_op.\n",
      "INFO:tensorflow:Done running local_init_op.\n",
      "INFO:tensorflow:Saving checkpoints for 0 into /tmp/PiNN_QM9_pipeline/model.ckpt.\n",
      "INFO:tensorflow:loss = 879.15546, step = 1\n",
      "INFO:tensorflow:global_step/sec: 8.64429\n",
      "INFO:tensorflow:loss = 222.37025, step = 501 (57.844 sec)\n",
      "INFO:tensorflow:global_step/sec: 8.59256\n",
      "INFO:tensorflow:loss = 183.78914, step = 1001 (58.190 sec)\n",
      "INFO:tensorflow:global_step/sec: 17.7997\n",
      "INFO:tensorflow:loss = 135.99112, step = 1501 (28.090 sec)\n",
      "INFO:tensorflow:global_step/sec: 21.153\n",
      "INFO:tensorflow:loss = 115.06047, step = 2001 (23.637 sec)\n",
      "INFO:tensorflow:global_step/sec: 20.9033\n",
      "INFO:tensorflow:loss = 102.32951, step = 2501 (23.920 sec)\n",
      "INFO:tensorflow:global_step/sec: 21.4391\n",
      "INFO:tensorflow:loss = 78.749466, step = 3001 (23.322 sec)\n",
      "INFO:tensorflow:global_step/sec: 21.2456\n",
      "INFO:tensorflow:loss = 73.86727, step = 3501 (23.535 sec)\n",
      "INFO:tensorflow:global_step/sec: 20.996\n",
      "INFO:tensorflow:loss = 89.26496, step = 4001 (23.814 sec)\n",
      "INFO:tensorflow:global_step/sec: 21.1667\n",
      "INFO:tensorflow:loss = 99.00669, step = 4501 (23.622 sec)\n",
      "INFO:tensorflow:global_step/sec: 20.8662\n",
      "INFO:tensorflow:loss = 65.92773, step = 5001 (23.962 sec)\n",
      "INFO:tensorflow:global_step/sec: 21.3246\n",
      "INFO:tensorflow:loss = 104.1092, step = 5501 (23.447 sec)\n",
      "INFO:tensorflow:global_step/sec: 21.0801\n",
      "INFO:tensorflow:loss = 57.178234, step = 6001 (23.720 sec)\n",
      "INFO:tensorflow:global_step/sec: 20.9236\n",
      "INFO:tensorflow:loss = 104.51004, step = 6501 (23.896 sec)\n",
      "INFO:tensorflow:global_step/sec: 20.9034\n",
      "INFO:tensorflow:loss = 44.749893, step = 7001 (23.919 sec)\n",
      "INFO:tensorflow:global_step/sec: 21.1356\n",
      "INFO:tensorflow:loss = 32.918713, step = 7501 (23.657 sec)\n",
      "INFO:tensorflow:global_step/sec: 21.3618\n",
      "INFO:tensorflow:loss = 60.39219, step = 8001 (23.407 sec)\n",
      "INFO:tensorflow:global_step/sec: 21.1006\n",
      "INFO:tensorflow:loss = 61.244263, step = 8501 (23.696 sec)\n",
      "INFO:tensorflow:global_step/sec: 21.0728\n",
      "INFO:tensorflow:loss = 29.862251, step = 9001 (23.728 sec)\n",
      "INFO:tensorflow:global_step/sec: 21.1835\n",
      "INFO:tensorflow:loss = 25.796045, step = 9501 (23.602 sec)\n",
      "INFO:tensorflow:Saving checkpoints for 10000 into /tmp/PiNN_QM9_pipeline/model.ckpt.\n",
      "INFO:tensorflow:Calling model_fn.\n",
      "INFO:tensorflow:Done calling model_fn.\n",
      "INFO:tensorflow:Starting evaluation at 2018-12-31-12:43:49\n",
      "INFO:tensorflow:Graph was finalized.\n",
      "INFO:tensorflow:Restoring parameters from /tmp/PiNN_QM9_pipeline/model.ckpt-10000\n",
      "INFO:tensorflow:Running local_init_op.\n",
      "INFO:tensorflow:Done running local_init_op.\n",
      "INFO:tensorflow:Evaluation [10/100]\n",
      "INFO:tensorflow:Evaluation [20/100]\n",
      "INFO:tensorflow:Evaluation [30/100]\n",
      "INFO:tensorflow:Evaluation [40/100]\n",
      "INFO:tensorflow:Evaluation [50/100]\n",
      "INFO:tensorflow:Evaluation [60/100]\n",
      "INFO:tensorflow:Evaluation [70/100]\n",
      "INFO:tensorflow:Evaluation [80/100]\n",
      "INFO:tensorflow:Evaluation [90/100]\n",
      "INFO:tensorflow:Evaluation [100/100]\n",
      "INFO:tensorflow:Finished evaluation at 2018-12-31-12:44:03\n",
      "INFO:tensorflow:Saving dict for global step 10000: ENG_MAE = 4.3361235, ENG_RMSE = 6.5197783, global_step = 10000, loss = 42.50752\n",
      "INFO:tensorflow:Saving 'checkpoint_path' summary for global step 10000: /tmp/PiNN_QM9_pipeline/model.ckpt-10000\n",
      "INFO:tensorflow:Loss for final step: 42.54428.\n"
     ]
    },
    {
     "data": {
      "text/plain": [
       "({'ENG_MAE': 4.3361235,\n",
       "  'ENG_RMSE': 6.5197783,\n",
       "  'loss': 42.50752,\n",
       "  'global_step': 10000},\n",
       " [])"
      ]
     },
     "execution_count": 12,
     "metadata": {},
     "output_type": "execute_result"
    }
   ],
   "source": [
    "model = potential_model(params, config)\n",
    "tf.estimator.train_and_evaluate(model, train_spec, eval_spec)"
   ]
  },
  {
   "cell_type": "markdown",
   "metadata": {},
   "source": [
    "## Monitoring\n",
    "It's recommended to monitor the training with Tensorboard instead of the stdout here.  \n",
    "Try `tensorboard --logdir /tmp`, and you can probably see this.\n",
    "\n",
    "![](tensorboard.png)\n"
   ]
  },
  {
   "cell_type": "markdown",
   "metadata": {},
   "source": [
    "## Parallelization with tf.Estimator\n",
    "\n",
    "The estimator api makes it extremely easy to train on multiple GPUs."
   ]
  },
  {
   "cell_type": "code",
   "execution_count": null,
   "metadata": {},
   "outputs": [],
   "source": [
    "# suppose you have two cards\n",
    "distribution = tf.contrib.distribute.MirroredStrategy(num_gpus=2)\n",
    "config = tf.estimator.RunConfig(train_distribute=distribution)\n",
    "model = potential_model(params, config)"
   ]
  },
  {
   "cell_type": "markdown",
   "metadata": {},
   "source": [
    "## Conclusions\n",
    "\n",
    "Congratulations! You can now train atomic neural networks with \n",
    "state-of-art accuracy and speed.\n",
    "\n",
    "\n",
    "But there's more. With PiNN, the components of ANNs are modulized.\n",
    "Read following notebooks to see how you can build you own ANN. "
   ]
  }
 ],
 "metadata": {
  "kernelspec": {
   "display_name": "Python 3",
   "language": "python",
   "name": "python3"
  },
  "language_info": {
   "codemirror_mode": {
    "name": "ipython",
    "version": 3
   },
   "file_extension": ".py",
   "mimetype": "text/x-python",
   "name": "python",
   "nbconvert_exporter": "python",
   "pygments_lexer": "ipython3",
   "version": "3.6.7"
  }
 },
 "nbformat": 4,
 "nbformat_minor": 2
}
