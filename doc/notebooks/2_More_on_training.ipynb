{
 "cells": [
  {
   "cell_type": "markdown",
   "metadata": {},
   "source": [
    "# More on training\n",
    "This notebooks covers more detials on tweaking and optimizing the training process"
   ]
  },
  {
   "cell_type": "markdown",
   "metadata": {},
   "source": [
    "## Optimizing the pipline\n",
    "### Caching\n",
    "Caching stores the decoded dataset in the memory."
   ]
  },
  {
   "cell_type": "code",
   "execution_count": null,
   "metadata": {},
   "outputs": [],
   "source": [
    "d = load_QM9_dataset('dsgn16/*', split_ratio=1)"
   ]
  },
  {
   "cell_type": "code",
   "execution_count": null,
   "metadata": {},
   "outputs": [],
   "source": [
    "dataset = d.repeat().batch(100)\n",
    "tensors = datasets.make_one_shot_iterator().get_next()\n",
    "output = pinn_network(train, **params)\n",
    "sess.run(output) # Run once to initialze the graph\n",
    "%timeit sess.run(output)"
   ]
  },
  {
   "cell_type": "markdown",
   "metadata": {},
   "source": [
    "The speed indicates the IO limit of our current setting"
   ]
  },
  {
   "cell_type": "code",
   "execution_count": null,
   "metadata": {},
   "outputs": [],
   "source": [
    "dataset = d.cache().repeat().batch(100)\n",
    "tensors = datasets.make_one_shot_iterator().get_next()\n",
    "output = pinn_network(train, **params)\n",
    "sess.run(output)\n",
    "%timeit sess.run(output)"
   ]
  },
  {
   "cell_type": "markdown",
   "metadata": {},
   "source": [
    "### Preprocessing\n",
    "You might see a notable difference in the preformance with and without preprocessing,  \n",
    "especially when you are training with GPUs\n",
    "\n",
    "**Note:** At this moment, you can not train forces with pre-precoessed distances"
   ]
  },
  {
   "cell_type": "code",
   "execution_count": null,
   "metadata": {},
   "outputs": [],
   "source": [
    "pre_fn = lambda t: pinn_network(t, pre_level=-10)\n",
    "train = d.cache().repeat().batch(100).map(pre_fn)\n",
    "output = pinn_network(train, pre_level=10, **params)\n",
    "sess.run(output)\n",
    "%timeit sess.run(output)"
   ]
  },
  {
   "cell_type": "markdown",
   "metadata": {},
   "source": [
    "## Parallization with tf.Estimator\n",
    "\n",
    "The estimator api makes it extremely easy to train on multiple GPUs."
   ]
  },
  {
   "cell_type": "code",
   "execution_count": null,
   "metadata": {},
   "outputs": [],
   "source": [
    "distribution = tf.contrib.distribute.MirroredStrategy(num_gpus=2)\n",
    "config = tf.estimator.RunConfig(train_distribute=distribution)\n",
    "# suppose you have two cards\n",
    "params = {'network': {'func': 'pinn_network'}}\n",
    "params['config'] = config\n",
    "# Add the configuration to parameters\n",
    "model = potential_model(params)"
   ]
  }
 ],
 "metadata": {
  "kernelspec": {
   "display_name": "Python 3",
   "language": "python",
   "name": "python3"
  },
  "language_info": {
   "codemirror_mode": {
    "name": "ipython",
    "version": 3
   },
   "file_extension": ".py",
   "mimetype": "text/x-python",
   "name": "python",
   "nbconvert_exporter": "python",
   "pygments_lexer": "ipython3",
   "version": "3.6.7"
  }
 },
 "nbformat": 4,
 "nbformat_minor": 2
}
