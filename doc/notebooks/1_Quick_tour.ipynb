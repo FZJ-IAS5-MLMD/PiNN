{
 "cells": [
  {
   "cell_type": "markdown",
   "metadata": {},
   "source": [
    "# 1. Quick tour\n",
    "\n",
    "This notebook showcases a easiest example of training neural network potentials with PiNN"
   ]
  },
  {
   "cell_type": "code",
   "execution_count": 1,
   "metadata": {},
   "outputs": [],
   "source": [
    "import os, warnings\n",
    "import tensorflow as tf\n",
    "from glob import glob\n",
    "from ase.collections import g2\n",
    "from pinn.datasets.qm9 import load_QM9_dataset\n",
    "from pinn.models import potential_model\n",
    "from pinn.calculator import PiNN_calc\n",
    "# CPU is used for documentation generation, feel free to use your GPU!\n",
    "os.environ['CUDA_VISIBLE_DEVICES'] = '' \n",
    "# We heavily use indexed slices to do sparse summations,\n",
    "# which cause tensorflow to complain, \n",
    "# we believe it's safe to ignore this warning.\n",
    "index_warning = 'Converting sparse IndexedSlices'\n",
    "warnings.filterwarnings('ignore', index_warning)"
   ]
  },
  {
   "cell_type": "markdown",
   "metadata": {},
   "source": [
    "## Getting the dataset\n",
    "\n",
    "PiNN adapted tensorflow's dataset API to handel different datasets.\n",
    "\n",
    "For this and the following notebooks the QM9 dataset (https://doi.org/10.6084/m9.figshare.978904) is used.  \n",
    "To follow the notebooks, download the dataset and change the directory accordingly.\n",
    "\n",
    "The dataset will be automatically split into subsets according to the split_ratio.  \n",
    "Note that to use the dataset with the estimator, the datasets should be a function, instead of a dataset object."
   ]
  },
  {
   "cell_type": "code",
   "execution_count": 2,
   "metadata": {},
   "outputs": [],
   "source": [
    "filelist = glob('/home/yunqi/datasets/QM9/dsgdb9nsd/*.xyz')\n",
    "dataset = lambda: load_QM9_dataset(filelist, split_ratio={'train':8, 'test':2})\n",
    "train = lambda: dataset()['train'].repeat().shuffle(1000).batch(100)\n",
    "test = lambda: dataset()['test'].repeat().batch(100)"
   ]
  },
  {
   "cell_type": "markdown",
   "metadata": {},
   "source": [
    "## Defining the model\n",
    "In PiNN, models are defined at two levels: models and networks. \n",
    "- A model (model_fn) defines the target, loss and training details of the network\n",
    "- A network defines the structure of the neural network  \n",
    "\n",
    "In this example, we will use the potential model, and the PiNN network.\n",
    "\n",
    "The configuration of a model is stored in a nested json-like structure. \n",
    "\n",
    "```Python\n",
    "{'model_dir': 'training_models/PiNN_QM9',\n",
    " 'network': 'pinn_network',\n",
    " 'netparam': {'depth': 4,\n",
    "              'rc':4.0,\n",
    "              'atom_types':[1,6,7,8,9]},\n",
    " 'train':{\n",
    "     'learning_rate': 3e-4,\n",
    "     'regularization': 'clip',\n",
    "     ...}}\n",
    "```\n",
    "A detailed description of the configuration **is NOT written yet**.\n",
    "\n",
    "The easiest way to specify the network function is with its name.  \n",
    "You can also provide a custom function here."
   ]
  },
  {
   "cell_type": "code",
   "execution_count": 3,
   "metadata": {},
   "outputs": [
    {
     "name": "stdout",
     "output_type": "stream",
     "text": [
      "INFO:tensorflow:Using default config.\n",
      "INFO:tensorflow:Using config: {'_model_dir': '/tmp/PiNN_QM9', '_tf_random_seed': None, '_save_summary_steps': 100, '_save_checkpoints_steps': None, '_save_checkpoints_secs': 600, '_session_config': allow_soft_placement: true\n",
      "graph_options {\n",
      "  rewrite_options {\n",
      "    meta_optimizer_iterations: ONE\n",
      "  }\n",
      "}\n",
      ", '_keep_checkpoint_max': 5, '_keep_checkpoint_every_n_hours': 10000, '_log_step_count_steps': 100, '_train_distribute': None, '_device_fn': None, '_protocol': None, '_eval_distribute': None, '_experimental_distribute': None, '_service': None, '_cluster_spec': <tensorflow.python.training.server_lib.ClusterSpec object at 0x7f1d26554940>, '_task_type': 'worker', '_task_id': 0, '_global_id_in_cluster': 0, '_master': '', '_evaluation_master': '', '_is_chief': True, '_num_ps_replicas': 0, '_num_worker_replicas': 1}\n"
     ]
    }
   ],
   "source": [
    "params = {'model_dir': '/tmp/PiNN_QM9',\n",
    "          'network': 'pinn_network',\n",
    "          'netparam': {},\n",
    "          'train': {'learning_rate': 1e-3}}\n",
    "model = potential_model(params)"
   ]
  },
  {
   "cell_type": "markdown",
   "metadata": {},
   "source": [
    "## Configuring the training process\n",
    "The defined model is indeed a tf.Estimator object, thus, the training can be easily controlled"
   ]
  },
  {
   "cell_type": "code",
   "execution_count": 4,
   "metadata": {},
   "outputs": [],
   "source": [
    "train_spec = tf.estimator.TrainSpec(input_fn=train, max_steps=1000)\n",
    "eval_spec = tf.estimator.EvalSpec(input_fn=test, steps=100)"
   ]
  },
  {
   "cell_type": "markdown",
   "metadata": {},
   "source": [
    "## Train and evaluate"
   ]
  },
  {
   "cell_type": "code",
   "execution_count": 5,
   "metadata": {
    "scrolled": false
   },
   "outputs": [
    {
     "name": "stdout",
     "output_type": "stream",
     "text": [
      "INFO:tensorflow:Not using Distribute Coordinator.\n",
      "INFO:tensorflow:Running training and evaluation locally (non-distributed).\n",
      "INFO:tensorflow:Start train and evaluate loop. The evaluate will happen after every checkpoint. Checkpoint frequency is determined based on RunConfig arguments: save_checkpoints_steps None or save_checkpoints_secs 600.\n",
      "INFO:tensorflow:Calling model_fn.\n",
      "INFO:tensorflow:Done calling model_fn.\n",
      "INFO:tensorflow:Create CheckpointSaverHook.\n",
      "INFO:tensorflow:Graph was finalized.\n",
      "INFO:tensorflow:Running local_init_op.\n",
      "INFO:tensorflow:Done running local_init_op.\n",
      "INFO:tensorflow:Saving checkpoints for 0 into /tmp/PiNN_QM9/model.ckpt.\n",
      "INFO:tensorflow:loss = 168317.23, step = 1\n",
      "INFO:tensorflow:global_step/sec: 4.99999\n",
      "INFO:tensorflow:loss = 6957.734, step = 101 (20.003 sec)\n",
      "INFO:tensorflow:global_step/sec: 5.21264\n",
      "INFO:tensorflow:loss = 6657.774, step = 201 (19.184 sec)\n",
      "INFO:tensorflow:global_step/sec: 5.2076\n",
      "INFO:tensorflow:loss = 1785.6746, step = 301 (19.202 sec)\n",
      "INFO:tensorflow:global_step/sec: 5.27124\n",
      "INFO:tensorflow:loss = 1417.2516, step = 401 (18.972 sec)\n",
      "INFO:tensorflow:global_step/sec: 5.17855\n",
      "INFO:tensorflow:loss = 1982.6628, step = 501 (19.309 sec)\n",
      "INFO:tensorflow:global_step/sec: 5.32145\n",
      "INFO:tensorflow:loss = 1284.5493, step = 601 (18.793 sec)\n",
      "INFO:tensorflow:global_step/sec: 5.22952\n",
      "INFO:tensorflow:loss = 623.98584, step = 701 (19.122 sec)\n",
      "INFO:tensorflow:global_step/sec: 5.32733\n",
      "INFO:tensorflow:loss = 1034.6852, step = 801 (18.771 sec)\n",
      "INFO:tensorflow:global_step/sec: 5.32093\n",
      "INFO:tensorflow:loss = 626.6923, step = 901 (18.794 sec)\n",
      "INFO:tensorflow:Saving checkpoints for 1000 into /tmp/PiNN_QM9/model.ckpt.\n",
      "INFO:tensorflow:Calling model_fn.\n",
      "INFO:tensorflow:Done calling model_fn.\n",
      "INFO:tensorflow:Starting evaluation at 2018-12-30-14:55:50\n",
      "INFO:tensorflow:Graph was finalized.\n",
      "INFO:tensorflow:Restoring parameters from /tmp/PiNN_QM9/model.ckpt-1000\n",
      "INFO:tensorflow:Running local_init_op.\n",
      "INFO:tensorflow:Done running local_init_op.\n",
      "INFO:tensorflow:Evaluation [10/100]\n",
      "INFO:tensorflow:Evaluation [20/100]\n",
      "INFO:tensorflow:Evaluation [30/100]\n",
      "INFO:tensorflow:Evaluation [40/100]\n",
      "INFO:tensorflow:Evaluation [50/100]\n",
      "INFO:tensorflow:Evaluation [60/100]\n",
      "INFO:tensorflow:Evaluation [70/100]\n",
      "INFO:tensorflow:Evaluation [80/100]\n",
      "INFO:tensorflow:Evaluation [90/100]\n",
      "INFO:tensorflow:Evaluation [100/100]\n",
      "INFO:tensorflow:Finished evaluation at 2018-12-30-14:56:07\n",
      "INFO:tensorflow:Saving dict for global step 1000: ENG_MAE = 12.303868, ENG_RMSE = 21.483816, global_step = 1000, loss = 461.55426\n",
      "INFO:tensorflow:Saving 'checkpoint_path' summary for global step 1000: /tmp/PiNN_QM9/model.ckpt-1000\n",
      "INFO:tensorflow:Loss for final step: 369.105.\n"
     ]
    },
    {
     "data": {
      "text/plain": [
       "({'ENG_MAE': 12.303868,\n",
       "  'ENG_RMSE': 21.483816,\n",
       "  'loss': 461.55426,\n",
       "  'global_step': 1000},\n",
       " [])"
      ]
     },
     "execution_count": 5,
     "metadata": {},
     "output_type": "execute_result"
    }
   ],
   "source": [
    "tf.estimator.train_and_evaluate(model, train_spec, eval_spec)"
   ]
  },
  {
   "cell_type": "markdown",
   "metadata": {},
   "source": [
    "## Using the model\n",
    "\n",
    "The trained model can be used as a ASE calculator."
   ]
  },
  {
   "cell_type": "code",
   "execution_count": 6,
   "metadata": {},
   "outputs": [
    {
     "name": "stdout",
     "output_type": "stream",
     "text": [
      "INFO:tensorflow:Calling model_fn.\n",
      "INFO:tensorflow:Done calling model_fn.\n",
      "INFO:tensorflow:Graph was finalized.\n",
      "INFO:tensorflow:Restoring parameters from /tmp/PiNN_QM9/model.ckpt-1000\n",
      "INFO:tensorflow:Running local_init_op.\n",
      "INFO:tensorflow:Done running local_init_op.\n"
     ]
    },
    {
     "data": {
      "text/plain": [
       "(array([[-0.0000000e+00,  2.8312206e-06, -3.9432991e+00],\n",
       "        [-0.0000000e+00,  7.1525574e-07,  3.9432998e+00],\n",
       "        [-0.0000000e+00,  1.5139805e+01,  1.2248228e+01],\n",
       "        [-0.0000000e+00, -1.5139809e+01,  1.2248232e+01],\n",
       "        [-0.0000000e+00,  1.5139807e+01, -1.2248231e+01],\n",
       "        [-0.0000000e+00, -1.5139807e+01, -1.2248231e+01]], dtype=float32),\n",
       " -94.6017074584961)"
      ]
     },
     "execution_count": 6,
     "metadata": {},
     "output_type": "execute_result"
    }
   ],
   "source": [
    "calc = PiNN_calc(model)\n",
    "atoms = g2['C2H4']\n",
    "atoms.set_calculator(calc)\n",
    "atoms.get_forces(), atoms.get_potential_energy()"
   ]
  },
  {
   "cell_type": "markdown",
   "metadata": {},
   "source": [
    "## Conclusion\n",
    "\n",
    "You've have trained your first PiNN model, though the accuracy is not so satisfying\n",
    "(RMSE=21 Hartree!). Also, the training speed is slow as it's limited by the IO and \n",
    "pre-processing of data.  \n",
    "\n",
    "We will show in following notebooks that:\n",
    "- Proper scaling of the energy will improve the accuracy of the model\n",
    "- The training speed can be enhancing by caching and pre-processing the data"
   ]
  }
 ],
 "metadata": {
  "kernelspec": {
   "display_name": "Python 3",
   "language": "python",
   "name": "python3"
  },
  "language_info": {
   "codemirror_mode": {
    "name": "ipython",
    "version": 3
   },
   "file_extension": ".py",
   "mimetype": "text/x-python",
   "name": "python",
   "nbconvert_exporter": "python",
   "pygments_lexer": "ipython3",
   "version": "3.6.7"
  }
 },
 "nbformat": 4,
 "nbformat_minor": 2
}
