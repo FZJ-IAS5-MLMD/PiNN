{
 "cells": [
  {
   "cell_type": "markdown",
   "metadata": {},
   "source": [
    "# More on training\n",
    "This notebooks covers more detials on tweaking and optimizing the training process"
   ]
  },
  {
   "cell_type": "markdown",
   "metadata": {},
   "source": [
    "## Optimizing the pipline\n",
    "### Caching"
   ]
  },
  {
   "cell_type": "code",
   "execution_count": null,
   "metadata": {},
   "outputs": [],
   "source": [
    "datasets = load_QM9_dataset('dsgn16/*', split_ratio={'train':8, 'test':2})\n",
    "train = datasets['train']().repeat().batch(100)\n",
    "output = pinn_network(train, **params)"
   ]
  },
  {
   "cell_type": "markdown",
   "metadata": {},
   "source": [
    "### Preprocessing\n",
    "You might see a notable difference in the preformance with and without preprocessing,  \n",
    "especially when you are training with GPUs\n",
    "\n",
    "**Note:** At this moment, you can not train forces with pre-precoessed distances"
   ]
  },
  {
   "cell_type": "code",
   "execution_count": null,
   "metadata": {},
   "outputs": [],
   "source": [
    "datasets = load_QM9_dataset('dsgn16/*', split_ratio={'train':8, 'test':2})\n",
    "train = datasets['train']().cache().repeat().batch(100)\n",
    "output = pinn_network(train, **params)"
   ]
  },
  {
   "cell_type": "code",
   "execution_count": null,
   "metadata": {},
   "outputs": [],
   "source": [
    "pre_fn = lambda t: pinn_network(t, pre_level=-10)\n",
    "train = datasets['train']().repeat().batch(100).map(pre_fn)\n",
    "output = pinn_network(train, pre_level=10, **params)"
   ]
  },
  {
   "cell_type": "markdown",
   "metadata": {},
   "source": [
    "## Parallization with tf.Estimator\n",
    "\n",
    "The estimator api makes it extremely easy to train on multiple GPUs."
   ]
  },
  {
   "cell_type": "code",
   "execution_count": null,
   "metadata": {},
   "outputs": [],
   "source": [
    "distribution = tf.contrib.distribute.MirroredStrategy(num_gpus=2)\n",
    "config = tf.estimator.RunConfig(train_distribute=distribution)\n",
    "# suppose you have two cards\n",
    "params = {'network': {'func': 'pinn_network'}}\n",
    "params['config'] = config\n",
    "# Add the configuration to parameters\n",
    "model = potential_model(params)"
   ]
  }
 ],
 "metadata": {
  "kernelspec": {
   "display_name": "Python 3",
   "language": "python",
   "name": "python3"
  },
  "language_info": {
   "codemirror_mode": {
    "name": "ipython",
    "version": 3
   },
   "file_extension": ".py",
   "mimetype": "text/x-python",
   "name": "python",
   "nbconvert_exporter": "python",
   "pygments_lexer": "ipython3",
   "version": "3.6.7"
  }
 },
 "nbformat": 4,
 "nbformat_minor": 2
}
