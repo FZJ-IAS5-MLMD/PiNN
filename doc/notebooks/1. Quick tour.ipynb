{
 "cells": [
  {
   "cell_type": "markdown",
   "metadata": {},
   "source": [
    "# Quick tour\n",
    "\n",
    "This notebook showcases a easiest example of training neural network potentials with PiNN"
   ]
  },
  {
   "cell_type": "code",
   "execution_count": null,
   "metadata": {},
   "outputs": [],
   "source": [
    "import tensorflow as tf\n",
    "from pinn.datasets.qm9 import load_QM9_dataset\n",
    "from pinn.models import potential_model\n",
    "from pinn.calculator import PiNN_calc"
   ]
  },
  {
   "cell_type": "markdown",
   "metadata": {},
   "source": [
    "## Getting the dataset\n",
    "\n",
    "PiNN adapted tensorflow's dataset API to handel different datasets.\n",
    "\n",
    "The dataset will be automatically splitted into subsets accoring to the split_ratio.  \n",
    "Note that to use the dataset with the estimator, the datasets should be a function, instead of a dataset object."
   ]
  },
  {
   "cell_type": "code",
   "execution_count": null,
   "metadata": {},
   "outputs": [],
   "source": [
    "datasets = load_QM9_dataset('dsgn16/*', split_ratio={'train':8, 'test':2})\n",
    "train = lambda: datasets['train']().repeat().batch(100)\n",
    "test = lambda: datasets['test']().repeat().batch(10)"
   ]
  },
  {
   "cell_type": "markdown",
   "metadata": {},
   "source": [
    "## Defining the model\n",
    "In PiNN, models are defined at two levels: models and networks. \n",
    "- A model (model_fn) defines the target, loss and training details of the network\n",
    "- A network defines the structure of the neural network  \n",
    "\n",
    "In this exampel, we will use the potential model, and the PiNN network.\n",
    "\n",
    "The configuration of a model is stored in a nested json-like structure. \n",
    "\n",
    "```Python\n",
    "{'network':\n",
    "    {'func': 'pinn_network',\n",
    "     'params': 'ii_nodes':[10,10] ...}\n",
    " 'training':\n",
    "    {'learning_rate': 1e-5}\n",
    " ...}\n",
    "```\n",
    "A detailed description of the configuration can be found **NOWHERE**.\n",
    "\n",
    "When using implemented network structures, the network function can be specified with a string.  \n",
    "You can also provide a custom function here."
   ]
  },
  {
   "cell_type": "code",
   "execution_count": null,
   "metadata": {},
   "outputs": [],
   "source": [
    "params = {'network': {'func': 'pinn_network'}}\n",
    "model = potential_model(params)"
   ]
  },
  {
   "cell_type": "markdown",
   "metadata": {},
   "source": [
    "## Configuring the training process\n",
    "The defined model is indeed a tf.Estimator object, thus, the training can be easily controlled"
   ]
  },
  {
   "cell_type": "code",
   "execution_count": null,
   "metadata": {},
   "outputs": [],
   "source": [
    "train_spec = tf.estimator.TrainSpec(input_fn=train, max_steps=1000)\n",
    "eval_spec = tf.estimator.EvalSpec(input_fn=test, steps=100)"
   ]
  },
  {
   "cell_type": "markdown",
   "metadata": {},
   "source": [
    "## Train and evaluate"
   ]
  },
  {
   "cell_type": "code",
   "execution_count": null,
   "metadata": {},
   "outputs": [],
   "source": [
    "tf.estimator.train_and_evaluate(model, train_spec, eval_spec)"
   ]
  },
  {
   "cell_type": "markdown",
   "metadata": {},
   "source": [
    "## Using the model"
   ]
  },
  {
   "cell_type": "code",
   "execution_count": null,
   "metadata": {},
   "outputs": [],
   "source": [
    "calc = PiNN_calc(model)"
   ]
  }
 ],
 "metadata": {
  "kernelspec": {
   "display_name": "Python 3",
   "language": "python",
   "name": "python3"
  },
  "language_info": {
   "codemirror_mode": {
    "name": "ipython",
    "version": 3
   },
   "file_extension": ".py",
   "mimetype": "text/x-python",
   "name": "python",
   "nbconvert_exporter": "python",
   "pygments_lexer": "ipython3",
   "version": "3.6.7"
  }
 },
 "nbformat": 4,
 "nbformat_minor": 2
}
