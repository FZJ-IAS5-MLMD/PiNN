{
 "cells": [
  {
   "cell_type": "markdown",
   "metadata": {},
   "source": [
    "# Toy problem: Learning LJ potential with three atoms\n",
    "\n",
    "This notebook showcased the usage of PiNN with a toy problem of learning Lennard Jones\n",
    "potential with a hand-generated dataset.  \n",
    "It serves as a basic test, and demonstration of the workflow with PiNN."
   ]
  },
  {
   "cell_type": "code",
   "execution_count": null,
   "metadata": {},
   "outputs": [],
   "source": [
    "%matplotlib inline"
   ]
  },
  {
   "cell_type": "code",
   "execution_count": null,
   "metadata": {},
   "outputs": [],
   "source": [
    "import os \n",
    "import numpy as np\n",
    "import matplotlib.pyplot as plt\n",
    "from ase import Atoms\n",
    "from ase.calculators.lj import LennardJones\n",
    "os.environ['CUDA_VISIBLE_DEVICES'] = ''"
   ]
  },
  {
   "cell_type": "markdown",
   "metadata": {},
   "source": [
    "## Reference data"
   ]
  },
  {
   "cell_type": "code",
   "execution_count": null,
   "metadata": {},
   "outputs": [],
   "source": [
    "# Helper function: get the position given PES dimension(s)\n",
    "def three_body_sample(atoms, a, r):\n",
    "    x = a * np.pi / 180\n",
    "    pos = [[0, 0, 0],\n",
    "           [0, 2, 0],\n",
    "           [0, r*np.cos(x), r*np.sin(x)]]\n",
    "    atoms.set_positions(pos)\n",
    "    return atoms"
   ]
  },
  {
   "cell_type": "code",
   "execution_count": null,
   "metadata": {},
   "outputs": [],
   "source": [
    "atoms = Atoms('H3', calculator=LennardJones())\n",
    "\n",
    "na, nr = 50, 50\n",
    "arange = np.linspace(30,180,na)\n",
    "rrange = np.linspace(1,3,nr)\n",
    "\n",
    "# Truth\n",
    "agrid, rgrid = np.meshgrid(arange, rrange)\n",
    "egrid = np.zeros([na, nr])\n",
    "for i in range(na):\n",
    "    for j in range(nr):\n",
    "        atoms = three_body_sample(atoms, arange[i], rrange[j])\n",
    "        egrid[i,j] = atoms.get_potential_energy()\n",
    "        \n",
    "# Samples\n",
    "nsample = 50\n",
    "asample, rsample = [], []\n",
    "distsample = []\n",
    "data = {'e_data':[], 'f_data':[], 'atoms':[], 'coord':[]}\n",
    "for i in range(nsample):\n",
    "    a, r = np.random.choice(arange), np.random.choice(rrange)\n",
    "    atoms = three_body_sample(atoms, a, r)\n",
    "    dist = atoms.get_all_distances()\n",
    "    dist = dist[np.nonzero(dist)]\n",
    "    data['e_data'].append(atoms.get_potential_energy())\n",
    "    data['f_data'].append(atoms.get_forces())\n",
    "    data['coord'].append(atoms.get_positions())\n",
    "    data['atoms'].append(atoms.numbers)\n",
    "    asample.append(a)\n",
    "    rsample.append(r)\n",
    "    distsample.append(dist)"
   ]
  },
  {
   "cell_type": "code",
   "execution_count": null,
   "metadata": {},
   "outputs": [],
   "source": [
    "plt.pcolormesh(agrid, rgrid, egrid)\n",
    "plt.plot(asample, rsample, 'rx')\n",
    "plt.colorbar()"
   ]
  },
  {
   "cell_type": "markdown",
   "metadata": {},
   "source": [
    "## Dataset from numpy arrays"
   ]
  },
  {
   "cell_type": "code",
   "execution_count": null,
   "metadata": {},
   "outputs": [],
   "source": [
    "data = {k:np.array(v) for k,v in data.items()}\n",
    "dataset = lambda: load_numpy_dataset(data)\n",
    "\n",
    "train = lambda: dataset()['train'].shuffle(100).repeat().batch(50)\n",
    "test = lambda: dataset()['test'].repeat().batch(10)"
   ]
  },
  {
   "cell_type": "markdown",
   "metadata": {},
   "source": [
    "## Training"
   ]
  },
  {
   "cell_type": "code",
   "execution_count": null,
   "metadata": {},
   "outputs": [],
   "source": [
    "import tensorflow as tf\n",
    "from pinn.models import potential_model\n",
    "from pinn.networks import pinn_network\n",
    "from pinn.datasets.numpy import load_numpy_dataset\n",
    "from pinn.calculator import PiNN_calc"
   ]
  },
  {
   "cell_type": "markdown",
   "metadata": {},
   "source": [
    "## Model specification"
   ]
  },
  {
   "cell_type": "code",
   "execution_count": null,
   "metadata": {},
   "outputs": [],
   "source": [
    "params={\n",
    "    'model_dir': '/tmp/toy_models/LJ_three_body',\n",
    "    'network': 'pinn_network',\n",
    "    'netparam': {'pre_level': 0,\n",
    "                 'ii_nodes':[8,8],\n",
    "                 'pi_nodes':[8,8],\n",
    "                 'pp_nodes':[8,8],\n",
    "                 'en_nodes':[8,8],\n",
    "                 'depth': 4,\n",
    "                 'rc': 3.0,\n",
    "                 'atom_types':[1],\n",
    "                 'atomic_dress': {}},\n",
    "    'train':{\n",
    "        'en_scale': 10,\n",
    "        'train_force': True,\n",
    "        'force_ratio': 1,\n",
    "        'learning_rate': 3e-4,\n",
    "        'regularization': 'clip'}}\n",
    "model = potential_model(params)"
   ]
  },
  {
   "cell_type": "code",
   "execution_count": null,
   "metadata": {
    "scrolled": false
   },
   "outputs": [],
   "source": [
    "#%rm -r /tmp/toy_models/LJ_three_body/ # To trash the model\n",
    "train_spec = tf.estimator.TrainSpec(input_fn=train, max_steps=2e3)\n",
    "eval_spec = tf.estimator.EvalSpec(input_fn=test, steps=10)\n",
    "tf.estimator.train_and_evaluate(model, train_spec, eval_spec)"
   ]
  },
  {
   "cell_type": "markdown",
   "metadata": {},
   "source": [
    "## Validate the results\n",
    "### PES analysis"
   ]
  },
  {
   "cell_type": "code",
   "execution_count": null,
   "metadata": {},
   "outputs": [],
   "source": [
    "atoms = Atoms('H3', calculator=PiNN_calc(model))\n",
    "epred = np.zeros([na, nr])\n",
    "for i in range(na):\n",
    "    for j in range(nr):\n",
    "        a, r = arange[i], rrange[j]\n",
    "        atoms = three_body_sample(atoms, a, r)\n",
    "        epred[i,j] = atoms.get_potential_energy()"
   ]
  },
  {
   "cell_type": "code",
   "execution_count": null,
   "metadata": {},
   "outputs": [],
   "source": [
    "plt.pcolormesh(agrid, rgrid, epred)\n",
    "plt.colorbar()\n",
    "plt.title('NN predicted PES')\n",
    "plt.figure()\n",
    "plt.pcolormesh(agrid, rgrid, 10*egrid-epred)\n",
    "plt.plot(asample, rsample, 'rx')\n",
    "plt.title('NN Prediction error and sampled points')\n",
    "plt.colorbar()"
   ]
  },
  {
   "cell_type": "markdown",
   "metadata": {},
   "source": [
    "### Pairwise potential analysis"
   ]
  },
  {
   "cell_type": "code",
   "execution_count": null,
   "metadata": {},
   "outputs": [],
   "source": [
    "atoms1 = Atoms('H2', calculator=PiNN_calc(model))\n",
    "atoms2 = Atoms('H2', calculator=LennardJones())\n",
    "\n",
    "nr2 = 50\n",
    "rrange2 = np.linspace(1,1.5,nr2)\n",
    "epred = np.zeros(nr2)\n",
    "etrue = np.zeros(nr2)\n",
    "\n",
    "for i in range(nr):\n",
    "    pos = [[0, 0, 0],\n",
    "           [rrange[i], 0, 0]]\n",
    "    atoms1.set_positions(pos)\n",
    "    atoms2.set_positions(pos)\n",
    "    epred[i] = atoms1.get_potential_energy()\n",
    "    etrue[i] = atoms2.get_potential_energy()"
   ]
  },
  {
   "cell_type": "code",
   "execution_count": null,
   "metadata": {},
   "outputs": [],
   "source": [
    "f, (ax1, ax2) = plt.subplots(2,1, gridspec_kw = {'height_ratios':[3, 1]})\n",
    "ax1.plot(rrange2, epred)\n",
    "ax1.plot(rrange2, etrue*10,'--')\n",
    "ax1.legend(['Prediction', 'Truth'], loc=4)\n",
    "_=ax2.hist(np.concatenate(distsample,0), 10, range=(1,1.5))"
   ]
  }
 ],
 "metadata": {
  "kernelspec": {
   "display_name": "Python 3",
   "language": "python",
   "name": "python3"
  },
  "language_info": {
   "codemirror_mode": {
    "name": "ipython",
    "version": 3
   },
   "file_extension": ".py",
   "mimetype": "text/x-python",
   "name": "python",
   "nbconvert_exporter": "python",
   "pygments_lexer": "ipython3",
   "version": "3.6.7"
  }
 },
 "nbformat": 4,
 "nbformat_minor": 2
}
